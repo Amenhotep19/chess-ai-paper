{
 "cells": [
  {
   "cell_type": "markdown",
   "execution_count": null,
   "metadata": {},
   "outputs": [],
   "source": [
    "Imports"
   ]
  },
  {
   "cell_type": "code",
   "execution_count": null,
   "metadata": {},
   "outputs": [],
   "source": [
    "import chess\n",
    "import chess.engine\n",
    "import random\n",
    "import chess.svg\n",
    "import time \n",
    "from IPython.display import display, HTML, clear_output"
   ]
  },
  {
   "cell_type": "code",
   "execution_count": null,
   "metadata": {},
   "outputs": [],
   "source": [
    "path_to_stockfish = \"/Applications/stockfish-10-mac/Mac/stockfish-10-popcnt\""
   ]
  },
  {
   "cell_type": "markdown",
   "execution_count": null,
   "metadata": {},
   "outputs": [],
   "source": [
    "Define start values"
   ]
  },
  {
   "cell_type": "code",
   "execution_count": null,
   "metadata": {},
   "outputs": [],
   "source": [
    "positions_analyzed_alpha_beta = 0\n",
    "positions_analyzed_minimax = 1\n",
    "cut_offs = 0\n",
    "current_eval = 0"
   ]
  },
  {
   "cell_type": "markdown",
   "execution_count": null,
   "metadata": {},
   "outputs": [],
   "source": [
    "Increment helper functions for Alpha-Beta and Minimax"
   ]
  },
  {
   "cell_type": "code",
   "execution_count": null,
   "metadata": {},
   "outputs": [],
   "source": [
    "def increment_alpha_beta():\n",
    "    global positions_analyzed_alpha_beta\n",
    "    positions_analyzed_alpha_beta = positions_analyzed_alpha_beta + 1\n",
    "    \n",
    "def increment_minimax():\n",
    "    global positions_analyzed_minimax\n",
    "    positions_analyzed_minimax = positions_analyzed_minimax + 1"
   ]
  },
  {
   "cell_type": "markdown",
   "execution_count": null,
   "metadata": {},
   "outputs": [],
   "source": [
    "Helper function to reset Alpha-Beta and Minimax analysis"
   ]
  },
  {
   "cell_type": "code",
   "execution_count": null,
   "metadata": {},
   "outputs": [],
   "source": [
    "def reset():\n",
    "    global positions_analyzed_alpha_beta\n",
    "    positions_analyzed_alpha_beta = 0\n",
    "    positions_analyzed_minimax = 0"
   ]
  },
  {
   "cell_type": "markdown",
   "execution_count": null,
   "metadata": {},
   "outputs": [],
   "source": [
    "Get users next move"
   ]
  },
  {
   "cell_type": "code",
   "execution_count": null,
   "metadata": {},
   "outputs": [],
   "source": [
    "def get_move(prompt):\n",
    "    uci = input(prompt)\n",
    "    if uci and uci[0] == \"q\":\n",
    "        raise KeyboardInterrupt()\n",
    "    try:\n",
    "        chess.Move.from_uci(uci)\n",
    "    except:\n",
    "        uci = None\n",
    "    return uci"
   ]
  },
  {
   "cell_type": "markdown",
   "execution_count": null,
   "metadata": {},
   "outputs": [],
   "source": [
    "Wrapper for the humans turn"
   ]
  },
  {
   "cell_type": "code",
   "execution_count": null,
   "metadata": {},
   "outputs": [],
   "source": [
    "def human_player(board):\n",
    "    display(board)\n",
    "    uci = get_move(f\"{who(board.turn)}'s move [q to quit]>\")\n",
    "    legal_uci_moves = [move.uci() for move in board.legal_moves]\n",
    "    while uci not in legal_uci_moves:\n",
    "        print(f\"Legal moves: {(', '.join(sorted(legal_uci_moves)))}\")\n",
    "        uci = get_move(f\"{who(board.turn)}'s move [q to quit]>\")\n",
    "    return uci"
   ]
  },
  {
   "cell_type": "markdown",
   "execution_count": null,
   "metadata": {},
   "outputs": [],
   "source": [
    "Get move of random player"
   ]
  },
  {
   "cell_type": "code",
   "execution_count": null,
   "metadata": {},
   "outputs": [],
   "source": [
    "def random_player(board):\n",
    "    move = random.choice(list(board.legal_moves))\n",
    "    return move.uci()"
   ]
  },
  {
   "cell_type": "markdown",
   "execution_count": null,
   "metadata": {},
   "outputs": [],
   "source": [
    "AI 1 player"
   ]
  },
  {
   "cell_type": "code",
   "execution_count": null,
   "metadata": {},
   "outputs": [],
   "source": [
    "def ai1(board):\n",
    "    moves = list(board.legal_moves)\n",
    "    for move in moves:\n",
    "        newboard = board.copy()\n",
    "        move.score = static_analysis(newboard, move, board.turn)\n",
    "    moves.sort(key=lambda move: move.score, reverse=True)\n",
    "    return moves[0].uci()"
   ]
  },
  {
   "cell_type": "markdown",
   "execution_count": null,
   "metadata": {},
   "outputs": [],
   "source": [
    "Stockfish"
   ]
  },
  {
   "cell_type": "code",
   "execution_count": null,
   "metadata": {},
   "outputs": [],
   "source": [
    "def stockfish(board):\n",
    "    engine = chess.engine.SimpleEngine.popen_uci(path_to_stockfish)\n",
    "    result = engine.play(board, chess.engine.Limit(time=0.3))\n",
    "    \n",
    "    return result.move.uci()"
   ]
  },
  {
   "cell_type": "markdown",
   "execution_count": null,
   "metadata": {},
   "outputs": [],
   "source": [
    "Alpha-Beta for AI"
   ]
  },
  {
   "cell_type": "code",
   "execution_count": null,
   "metadata": {},
   "outputs": [],
   "source": [
    "def ai_alpha_beta(board, color, depth):\n",
    "    global current_eval\n",
    "    all_moves = list(board.legal_moves)\n",
    "    for move in all_moves:\n",
    "        board.push(move)\n",
    "        if board.is_checkmate():\n",
    "            move.score = color * 1000\n",
    "        elif board.is_stalemate():\n",
    "            move.score = 0\n",
    "        else:\n",
    "            move.score = alpha_beta(board, -100000, +100000, -color, depth - 1)\n",
    "        board.pop()\n",
    "    sorted_moves = sorted(all_moves, key=lambda move: move.score)\n",
    "    \n",
    "    if color == -1:\n",
    "        current_eval = sorted_moves[0].score\n",
    "        return sorted_moves[0].uci()\n",
    "    else:\n",
    "        current_eval = sorted_moves[-1].score\n",
    "        return sorted_moves[-1].uci()"
   ]
  },
  {
   "cell_type": "markdown",
   "execution_count": null,
   "metadata": {},
   "outputs": [],
   "source": [
    "Minimax for AI (never used)"
   ]
  },
  {
   "cell_type": "code",
   "execution_count": null,
   "metadata": {},
   "outputs": [],
   "source": [
    "def ai_minimax(board, color, depth):\n",
    "    all_moves = list(board.legal_moves)\n",
    "    for move in all_moves:\n",
    "        newboard = board.copy()\n",
    "        newboard.push(move)\n",
    "        if newboard.is_checkmate():\n",
    "            move.score = color * 100\n",
    "        elif newboard.is_stalemate():\n",
    "            move.score = 0\n",
    "        else:\n",
    "            move.score = minimax(newboard, -color, depth - 1)\n",
    "    if color == -1:\n",
    "        return sorted(all_moves, key=lambda move: move.score)[0].uci()\n",
    "    else:\n",
    "        return sorted(all_moves, key=lambda move: move.score)[-1].uci()"
   ]
  },
  {
   "cell_type": "markdown",
   "execution_count": null,
   "metadata": {},
   "outputs": [],
   "source": [
    "Minimax"
   ]
  },
  {
   "cell_type": "code",
   "execution_count": null,
   "metadata": {},
   "outputs": [],
   "source": [
    "def minimax(board, color, depth):\n",
    "    increment_minimax()\n",
    "    \n",
    "    if depth == 0:\n",
    "        return static_analysis(board)\n",
    "    else:\n",
    "        all_moves = list(board.legal_moves)\n",
    "        if color == 1:\n",
    "            score = -color * 1000\n",
    "            for move in all_moves:\n",
    "                newboard = board.copy()\n",
    "                newboard.push(move)\n",
    "                \n",
    "                if newboard.is_checkmate():\n",
    "                    move.score = color * 100\n",
    "                elif newboard.is_stalemate():\n",
    "                    move.score = 0\n",
    "                else:\n",
    "                    move.score = minimax(newboard, -color, depth - 1)\n",
    "                score = max(move.score, score)\n",
    "        else:\n",
    "            score = -color * 1000\n",
    "            for move in all_moves:\n",
    "                newboard = board.copy()\n",
    "                newboard.push(move)\n",
    "                \n",
    "                if newboard.is_checkmate():\n",
    "                    move.score = color * 100\n",
    "                elif newboard.is_stalemate():\n",
    "                    move.score = 0\n",
    "                else:\n",
    "                    move.score = minimax(newboard, -color, depth - 1)            \n",
    "                score = min(move.score, score)\n",
    "        return score"
   ]
  },
  {
   "cell_type": "markdown",
   "execution_count": null,
   "metadata": {},
   "outputs": [],
   "source": [
    "Alpha-Beta"
   ]
  },
  {
   "cell_type": "code",
   "execution_count": null,
   "metadata": {},
   "outputs": [],
   "source": [
    "def alpha_beta(board, alpha, beta, color, depth):\n",
    "    increment_alpha_beta()\n",
    "    global cut_offs\n",
    "    if depth == 0:\n",
    "        return static_analysis(board)\n",
    "    else:\n",
    "        all_moves = list(board.legal_moves)\n",
    "        all_moves = sort_moves(all_moves, board)\n",
    "        if color == 1:\n",
    "            score = -color * 1000\n",
    "            for move in all_moves:\n",
    "                board.push(move)\n",
    "                if board.is_checkmate():\n",
    "                    move.score = color * 1000\n",
    "                elif board.is_stalemate():\n",
    "                    move.score = 0\n",
    "                else:\n",
    "                    move.score = alpha_beta(board, alpha, beta, -color, depth - 1)\n",
    "                board.pop()\n",
    "                score = max(alpha, move.score)\n",
    "                alpha = max(alpha, move.score)\n",
    "                if alpha >= beta:\n",
    "                    cut_offs += 1\n",
    "                    break\n",
    "        else:\n",
    "            score = -color * 1000\n",
    "            for move in all_moves:\n",
    "                board.push(move)\n",
    "                if board.is_checkmate():\n",
    "                    move.score = color * 1000\n",
    "                elif board.is_stalemate():\n",
    "                    move.score = 0\n",
    "                else:\n",
    "                    move.score = alpha_beta(board, alpha, beta, -color, depth - 1)\n",
    "                board.pop()\n",
    "                score = min(score, move.score)\n",
    "                beta = min(beta, move.score)\n",
    "                if alpha >= beta:\n",
    "                    cut_offs += 1\n",
    "                    break\n",
    "        return score"
   ]
  },
  {
   "cell_type": "markdown",
   "execution_count": null,
   "metadata": {},
   "outputs": [],
   "source": [
    "Static Analysis"
   ]
  },
  {
   "cell_type": "code",
   "execution_count": null,
   "metadata": {},
   "outputs": [],
   "source": [
    "def static_analysis(board):\n",
    "    score = 0\n",
    "    for square in range(0, 64):\n",
    "        piece = board.piece_at(square)\n",
    "        if piece == None:\n",
    "            score += 0\n",
    "        elif piece.piece_type == 1:\n",
    "            if piece.color == True:\n",
    "                score += 1 + square / (8 * 10)\n",
    "            else:\n",
    "                score -= 1 + 0.8 - square / (8 * 10)\n",
    "        elif piece.piece_type == 3:\n",
    "            if piece.color == True:\n",
    "                score += 3.5\n",
    "            else:\n",
    "                score -= 3.5\n",
    "        elif piece.piece_type == 2:\n",
    "            if piece.color == True:\n",
    "                score += 3\n",
    "            else:\n",
    "                score -= 3\n",
    "        elif piece.piece_type == 4:\n",
    "            if piece.color == True:\n",
    "                score += 5\n",
    "            else:\n",
    "                score -= 5\n",
    "        elif piece.piece_type == 5:\n",
    "            if piece.color == True:\n",
    "                score += 9.5\n",
    "            else:\n",
    "                score -= 9.5\n",
    "        elif piece.piece_type == 6:\n",
    "            if piece.color == True:\n",
    "                score += 100\n",
    "                if square == 6:\n",
    "                    score += 1\n",
    "            else:\n",
    "                score -= 100\n",
    "                if square == 62:\n",
    "                    score -= 1\n",
    "    return score"
   ]
  },
  {
   "cell_type": "markdown",
   "execution_count": null,
   "metadata": {},
   "outputs": [],
   "source": [
    "Return a string representation of the player"
   ]
  },
  {
   "cell_type": "code",
   "execution_count": null,
   "metadata": {},
   "outputs": [],
   "source": [
    "def who(player):\n",
    "    return \"White\" if player == chess.WHITE else \"Black\""
   ]
  },
  {
   "cell_type": "markdown",
   "execution_count": null,
   "metadata": {},
   "outputs": [],
   "source": [
    "Helper function to display the chess board"
   ]
  },
  {
   "cell_type": "code",
   "execution_count": null,
   "metadata": {},
   "outputs": [],
   "source": [
    "def display_board(board, use_svg):\n",
    "    if use_svg:\n",
    "        return board._repr_svg_()\n",
    "    else:\n",
    "        return f\"<pre>{str(board)}</pre>\""
   ]
  },
  {
   "cell_type": "markdown",
   "execution_count": null,
   "metadata": {},
   "outputs": [],
   "source": [
    "Helper function to sort the moves"
   ]
  },
  {
   "cell_type": "code",
   "execution_count": null,
   "metadata": {},
   "outputs": [],
   "source": [
    "def sort_moves(moves,board):\n",
    "    temp_copy_moves = []\n",
    "    for move in moves:\n",
    "        if board.is_capture(move):\n",
    "            temp_copy_moves.insert(0, move)\n",
    "        else:\n",
    "            temp_copy_moves.append(move)\n",
    "    return temp_copy_moves"
   ]
  },
  {
   "cell_type": "markdown",
   "execution_count": null,
   "metadata": {},
   "outputs": [],
   "source": [
    "Function coordinating the game. It's the entry point for the game."
   ]
  },
  {
   "cell_type": "code",
   "execution_count": null,
   "metadata": {},
   "outputs": [],
   "source": [
    "def play_game(player1, player2, visual=\"svg\", pause=0.3):\n",
    "    use_svg = (visual == \"svg\")\n",
    "    board = chess.Board()\n",
    "    \n",
    "    try:\n",
    "        while not board.is_game_over(claim_draw=True):\n",
    "            if board.turn == chess.WHITE:\n",
    "                uci = player1(board, 1, 3)\n",
    "                minimax(board, 1, 3)\n",
    "            else:\n",
    "                uci = player2(board, -1, 3)\n",
    "                minimax(board, -1, 3)\n",
    "                \n",
    "            name = who(board.turn)\n",
    "            board.push_uci(uci)\n",
    "            board_stop = display_board(board, use_svg)\n",
    "            html = f\"<b> Move {len(board.move_stack)} {name}, Play '{uci}': </b><br/>{board_stop} </b><br/>All Positions: {positions_analyzed_minimax}, After pruning: {positions_analyzed_alpha_beta}, Positions Cut: {1 - positions_analyzed_alpha_beta / positions_analyzed_minimax} </b><br/>Current Eval {current_eval} </b><br/>CutOffs {cut_offs}\"\n",
    "            reset()\n",
    "            \n",
    "            if visual is not None:\n",
    "                if visual == \"svg\":\n",
    "                    clear_output(wait=True)\n",
    "                display(HTML(html))\n",
    "                if visual == \"svg\":\n",
    "                    time.sleep(pause)\n",
    "    except KeyboardInterrupt:\n",
    "        msg = \"Game interrupted\"\n",
    "        return (None, msg, board)\n",
    "    \n",
    "    result = None\n",
    "    if board.is_checkmate():\n",
    "        msg = \"checkmate: \" + who(not board.turn) + \" wins!\"\n",
    "        result = not board.turn\n",
    "    elif board.is_stalemate():\n",
    "        msg = \"draw: stalemate\"\n",
    "    elif board.is_fivefold_repetition():\n",
    "        msg = \"draw: fivefold repetition\"\n",
    "    elif board.is_insufficient_material():\n",
    "        msg = \"draw: insufficient material\"\n",
    "    elif board.can_claim_draw():\n",
    "        msg = \"draw: claim\"\n",
    "    if visual is not None:\n",
    "        print(msg)\n",
    "    return (result, msg, board)"
   ]
  },
  {
   "cell_type": "markdown",
   "execution_count": null,
   "metadata": {},
   "outputs": [],
   "source": [
    "Start a game"
   ]
  },
  {
   "cell_type": "code",
   "execution_count": null,
   "metadata": {},
   "outputs": [],
   "source": [
    "play_game(ai_alpha_beta, ai_alpha_beta)"
   ]
  },
  {
   "cell_type": "code",
   "execution_count": null,
   "metadata": {},
   "outputs": [],
   "source": []
  }
 ],
 "metadata": {
  "kernelspec": {
   "display_name": "Python 3",
   "language": "python",
   "name": "python3"
  },
  "language_info": {
   "codemirror_mode": {
    "name": "ipython",
    "version": 3
   },
   "file_extension": ".py",
   "mimetype": "text/x-python",
   "name": "python",
   "nbconvert_exporter": "python",
   "pygments_lexer": "ipython3",
   "version": "3.8.1-final"
  }
 },
 "nbformat": 4,
 "nbformat_minor": 2
}
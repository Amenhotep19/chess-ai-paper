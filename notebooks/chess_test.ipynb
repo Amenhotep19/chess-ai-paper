{
 "cells": [
  {
   "cell_type": "markdown",
   "metadata": {},
   "source": [
    "Imports"
   ]
  },
  {
   "cell_type": "code",
   "execution_count": null,
   "metadata": {},
   "outputs": [],
   "source": [
    "import chess\n",
    "import chess.engine\n",
    "import random\n",
    "import chess.svg\n",
    "import time \n",
    "from IPython.display import display, HTML, clear_output"
   ]
  },
  {
   "cell_type": "code",
   "execution_count": null,
   "metadata": {},
   "outputs": [],
   "source": [
    "path_to_stockfish = \"/Applications/stockfish-10-mac/Mac/stockfish-10-popcnt\""
   ]
  },
  {
   "cell_type": "markdown",
   "metadata": {},
   "source": [
    "Define start values"
   ]
  },
  {
   "cell_type": "code",
   "execution_count": null,
   "metadata": {},
   "outputs": [],
   "source": [
    "positionsAnalyzedAlphaBeta = 0\n",
    "positionsAnalyzedMinimax = 1\n",
    "cutOffs = 0\n",
    "currentEval = 0"
   ]
  },
  {
   "cell_type": "markdown",
   "metadata": {},
   "source": [
    "Increment helper functions for Alpha-Beta and Minimax"
   ]
  },
  {
   "cell_type": "code",
   "execution_count": null,
   "metadata": {},
   "outputs": [],
   "source": [
    "def incrementAlphaBeta():\n",
    "    global positionsAnalyzedAlphaBeta\n",
    "    positionsAnalyzedAlphaBeta = positionsAnalyzedAlphaBeta + 1\n",
    "    \n",
    "def incrementMinimax():\n",
    "    global positionsAnalyzedMinimax\n",
    "    positionsAnalyzedMinimax = positionsAnalyzedMinimax + 1"
   ]
  },
  {
   "cell_type": "markdown",
   "metadata": {},
   "source": [
    "Helper function to reset Alpha-Beta and Minimax analysis"
   ]
  },
  {
   "cell_type": "code",
   "execution_count": null,
   "metadata": {},
   "outputs": [],
   "source": [
    "def reset():\n",
    "    global positionsAnalyzedAlphaBeta\n",
    "    positionsAnalyzedAlphaBeta = 0\n",
    "    positionsAnalyzedMinimax = 0"
   ]
  },
  {
   "cell_type": "markdown",
   "metadata": {},
   "source": [
    "Maybe unnecessary chessboard creation"
   ]
  },
  {
   "cell_type": "code",
   "execution_count": null,
   "metadata": {},
   "outputs": [],
   "source": [
    "board = chess.Board()  # can it be removed?"
   ]
  },
  {
   "cell_type": "markdown",
   "metadata": {},
   "source": [
    "Get users next move"
   ]
  },
  {
   "cell_type": "code",
   "execution_count": null,
   "metadata": {},
   "outputs": [],
   "source": [
    "def get_move(prompt):\n",
    "    uci = input(prompt)\n",
    "    if uci and uci[0] == \"q\":\n",
    "        raise KeyboardInterrupt()\n",
    "    try:\n",
    "        chess.Move.from_uci(uci)\n",
    "    except:\n",
    "        uci = None\n",
    "    return uci"
   ]
  },
  {
   "cell_type": "markdown",
   "metadata": {},
   "source": [
    "Wrapper for the humans turn"
   ]
  },
  {
   "cell_type": "code",
   "execution_count": null,
   "metadata": {},
   "outputs": [],
   "source": [
    "def human_player(board):\n",
    "    display(board)\n",
    "    uci = get_move(f\"{who(board.turn)}'s move [q to quit]>\")\n",
    "    legal_uci_moves = [move.uci() for move in board.legal_moves]\n",
    "    while uci not in legal_uci_moves:\n",
    "        print(f\"Legal moves: {(', '.join(sorted(legal_uci_moves)))}\")\n",
    "        uci = get_move(f\"{who(board.turn)}'s move [q to quit]>\")\n",
    "    return uci"
   ]
  },
  {
   "cell_type": "markdown",
   "metadata": {},
   "source": [
    "Get move of random player"
   ]
  },
  {
   "cell_type": "code",
   "execution_count": null,
   "metadata": {},
   "outputs": [],
   "source": [
    "def random_player(board):\n",
    "    move = random.choice(list(board.legal_moves))\n",
    "    return move.uci()"
   ]
  },
  {
   "cell_type": "markdown",
   "metadata": {},
   "source": [
    "AI 1 player"
   ]
  },
  {
   "cell_type": "code",
   "execution_count": null,
   "metadata": {},
   "outputs": [],
   "source": [
    "def ai1(board):\n",
    "    moves = list(board.legal_moves)\n",
    "    for move in moves:\n",
    "        newboard = board.copy()\n",
    "        move.score = staticAnalysis(newboard, move, board.turn)\n",
    "    moves.sort(key=lambda move: move.score, reverse=True)\n",
    "    return moves[0].uci()"
   ]
  },
  {
   "cell_type": "markdown",
   "metadata": {},
   "source": [
    "Stockfish"
   ]
  },
  {
   "cell_type": "code",
   "execution_count": null,
   "metadata": {},
   "outputs": [],
   "source": [
    "def stockfish(board):\n",
    "    engine = chess.engine.SimpleEngine.popen_uci(path_to_stockfish)\n",
    "    result = engine.play(board, chess.engine.Limit(time=0.3))\n",
    "    \n",
    "    return result.move.uci()"
   ]
  },
  {
   "cell_type": "markdown",
   "metadata": {},
   "source": [
    "Alpha-Beta for AI"
   ]
  },
  {
   "cell_type": "code",
   "execution_count": null,
   "metadata": {},
   "outputs": [],
   "source": [
    "def aiAlphaBeta(board, color, depth):\n",
    "    global currentEval\n",
    "    allMoves = list(board.legal_moves)\n",
    "    for move in allMoves:\n",
    "        board.push(move)\n",
    "        if board.is_checkmate():\n",
    "            move.score = color * 1000\n",
    "        elif board.is_stalemate():\n",
    "            move.score = 0\n",
    "        else:\n",
    "            move.score = alphaBeta(board, -100000, +100000, -color, depth - 1)\n",
    "        board.pop()\n",
    "    sortedMoves = sorted(allMoves, key=lambda move: move.score)\n",
    "    \n",
    "    if color == -1:\n",
    "        currentEval = sortedMoves[0].score\n",
    "        return sortedMoves[0].uci()\n",
    "    else:\n",
    "        currentEval = sortedMoves[-1].score\n",
    "        return sortedMoves[-1].uci()"
   ]
  },
  {
   "cell_type": "markdown",
   "metadata": {},
   "source": [
    "Minimax for AI"
   ]
  },
  {
   "cell_type": "code",
   "execution_count": null,
   "metadata": {},
   "outputs": [],
   "source": [
    "def aiMinimax(board, color, depth):\n",
    "    allMoves = list(board.legal_moves)\n",
    "    for move in allMoves:\n",
    "        newboard = board.copy()\n",
    "        newboard.push(move)\n",
    "        if newboard.is_checkmate():\n",
    "            move.score = color * 100\n",
    "        elif newboard.is_stalemate():\n",
    "            move.score = 0\n",
    "        else:\n",
    "            move.score = minimax(newboard, -color, depth - 1)\n",
    "    if color == -1:\n",
    "        return sorted(allMoves, key=lambda move: move.score)[0].uci()\n",
    "    else:\n",
    "        return sorted(allMoves, key=lambda move: move.score)[-1].uci()"
   ]
  },
  {
   "cell_type": "markdown",
   "metadata": {},
   "source": [
    "Minimax"
   ]
  },
  {
   "cell_type": "code",
   "execution_count": null,
   "metadata": {},
   "outputs": [],
   "source": [
    "def minimax(board, color, depth):\n",
    "    incrementMinimax()\n",
    "    \n",
    "    if depth == 0:\n",
    "        return staticAnalysis(board)\n",
    "    else:\n",
    "        allMoves = list(board.legal_moves)\n",
    "        \n",
    "        if color == 1:\n",
    "            score = -color * 1000\n",
    "            for move in allMoves:\n",
    "                newboard = board.copy()\n",
    "                newboard.push(move)\n",
    "                \n",
    "                if newboard.is_checkmate():\n",
    "                    move.score = color * 100\n",
    "                elif newboard.is_stalemate():\n",
    "                    move.score = 0\n",
    "                else:\n",
    "                    move.score = minimax(newboard, -color, depth - 1)\n",
    "                \n",
    "                score = max(move.score, score)\n",
    "        else:\n",
    "            score = -color * 1000\n",
    "            for move in allMoves:\n",
    "                newboard = board.copy()\n",
    "                newboard.push(move)\n",
    "                \n",
    "                if newboard.is_checkmate():\n",
    "                    move.score = color * 100\n",
    "                elif newboard.is_stalemate():\n",
    "                    move.score = 0\n",
    "                else:\n",
    "                    move.score = minimax(newboard, -color, depth - 1)\n",
    "                \n",
    "                score = min(move.score,score)\n",
    "        return score"
   ]
  },
  {
   "cell_type": "markdown",
   "metadata": {},
   "source": [
    "Alpha-Beta"
   ]
  },
  {
   "cell_type": "code",
   "execution_count": null,
   "metadata": {},
   "outputs": [],
   "source": [
    "def alphaBeta(board, alpha, beta, color, depth):\n",
    "    incrementAlphaBeta()\n",
    "    global cutOffs\n",
    "    if depth == 0:\n",
    "        return staticAnalysis(board)\n",
    "    else:\n",
    "        allMoves = list(board.legal_moves)\n",
    "        allMoves = sortMoves(allMoves, board)\n",
    "        if color == 1:\n",
    "            score = -color * 1000\n",
    "            for move in allMoves:\n",
    "                board.push(move)\n",
    "                if board.is_checkmate():\n",
    "                    move.score = color * 1000\n",
    "                elif board.is_stalemate():\n",
    "                    move.score = 0\n",
    "                else:\n",
    "                    move.score = alphaBeta(board, alpha, beta, -color, depth - 1)\n",
    "                board.pop()\n",
    "                score = max(alpha, move.score)\n",
    "                alpha = max(alpha, move.score)\n",
    "                if alpha >= beta:\n",
    "                    cutOffs += 1\n",
    "                    break\n",
    "        else:\n",
    "            score = -color * 1000\n",
    "            for move in allMoves:\n",
    "                board.push(move)\n",
    "                if board.is_checkmate():\n",
    "                    move.score = color * 1000\n",
    "                elif board.is_stalemate():\n",
    "                    move.score = 0\n",
    "                else:\n",
    "                    move.score = alphaBeta(board, alpha, beta, -color, depth - 1)\n",
    "                board.pop()\n",
    "                score = min(score, move.score)\n",
    "                beta = min(beta, move.score)\n",
    "                if alpha >= beta:\n",
    "                    cutOffs += 1\n",
    "                    break\n",
    "        return score"
   ]
  },
  {
   "cell_type": "markdown",
   "metadata": {},
   "source": [
    "Static Analysis"
   ]
  },
  {
   "cell_type": "code",
   "execution_count": null,
   "metadata": {},
   "outputs": [],
   "source": [
    "def staticAnalysis(board):\n",
    "    score = 0\n",
    "    for square in range(0, 64):\n",
    "        piece = board.piece_at(square)\n",
    "        if piece == None:\n",
    "            score += 0\n",
    "        elif piece.piece_type == 1:\n",
    "            if piece.color == True:\n",
    "                score += 1 + square / (8 * 10)\n",
    "            else:\n",
    "                score -= 1 + 0.8 - square / (8 * 10)\n",
    "        elif piece.piece_type == 3:\n",
    "            if piece.color == True:\n",
    "                score += 3.5\n",
    "            else:\n",
    "                score -= 3.5\n",
    "        elif piece.piece_type == 2:\n",
    "            if piece.color == True:\n",
    "                score += 3\n",
    "            else:\n",
    "                score -= 3\n",
    "        elif piece.piece_type == 4:\n",
    "            if piece.color == True:\n",
    "                score += 5\n",
    "            else:\n",
    "                score -= 5\n",
    "        elif piece.piece_type == 5:\n",
    "            if piece.color == True:\n",
    "                score += 9.5\n",
    "            else:\n",
    "                score -= 9.5\n",
    "        elif piece.piece_type == 6:\n",
    "            if piece.color == True:\n",
    "                score += 100\n",
    "                if square == 6:\n",
    "                    score += 1\n",
    "            else:\n",
    "                score -= 100\n",
    "                if square == 62:\n",
    "                    score -= 1\n",
    "    return score"
   ]
  },
  {
   "cell_type": "markdown",
   "metadata": {},
   "source": [
    "Return a string representation of the player"
   ]
  },
  {
   "cell_type": "code",
   "execution_count": null,
   "metadata": {},
   "outputs": [],
   "source": [
    "def who(player):\n",
    "    return \"White\" if player == chess.WHITE else \"Black\""
   ]
  },
  {
   "cell_type": "markdown",
   "metadata": {},
   "source": [
    "Helper function to display the chess board"
   ]
  },
  {
   "cell_type": "code",
   "execution_count": null,
   "metadata": {},
   "outputs": [],
   "source": [
    "def display_board(board, use_svg):\n",
    "    if use_svg:\n",
    "        return board._repr_svg_()\n",
    "    else:\n",
    "        return f\"<pre>{str(board)}</pre>\""
   ]
  },
  {
   "cell_type": "markdown",
   "metadata": {},
   "source": [
    "Helper function to sort the moves"
   ]
  },
  {
   "cell_type": "code",
   "execution_count": null,
   "metadata": {},
   "outputs": [],
   "source": [
    "def sortMoves(moves,board):\n",
    "    tempCopyMoves = []\n",
    "    for move in moves:\n",
    "        if board.is_capture(move):\n",
    "            tempCopyMoves.insert(0, move)\n",
    "        else:\n",
    "            tempCopyMoves.append(move)\n",
    "    return tempCopyMoves"
   ]
  },
  {
   "cell_type": "markdown",
   "metadata": {},
   "source": [
    "Function coordinating the game. It's the entry point for the game."
   ]
  },
  {
   "cell_type": "code",
   "execution_count": null,
   "metadata": {},
   "outputs": [],
   "source": [
    "def play_game(player1, player2, visual=\"svg\", pause=0.3):\n",
    "    use_svg = (visual == \"svg\")\n",
    "    board = chess.Board()\n",
    "    \n",
    "    try:\n",
    "        while not board.is_game_over(claim_draw=True):\n",
    "            if board.turn == chess.WHITE:\n",
    "                uci = player1(board, 1, 3)\n",
    "                minimax(board, 1, 3)\n",
    "            else:\n",
    "                uci = player2(board, -1, 3)\n",
    "                minimax(board, -1, 3)\n",
    "                \n",
    "            name = who(board.turn)\n",
    "            board.push_uci(uci)\n",
    "            board_stop = display_board(board, use_svg)\n",
    "            html = f\"<b> Move {len(board.move_stack)} {name}, Play '{uci}': </b><br/>{board_stop} </b><br/>All Positions: {positionsAnalyzedMinimax}, After pruning: {positionsAnalyzedAlphaBeta}, Positions Cut: {1 - positionsAnalyzedAlphaBeta / positionsAnalyzedMinimax} </b><br/>Current Eval {currentEval} </b><br/>CutOffs {cutOffs}\"\n",
    "            reset()\n",
    "            \n",
    "            if visual is not None:\n",
    "                if visual == \"svg\":\n",
    "                    clear_output(wait=True)\n",
    "                display(HTML(html))\n",
    "                if visual == \"svg\":\n",
    "                    time.sleep(pause)\n",
    "    except KeyboardInterrupt:\n",
    "        msg = \"Game interrupted\"\n",
    "        return (None, msg, board)\n",
    "    \n",
    "    result = None\n",
    "    if board.is_checkmate():\n",
    "        msg = \"checkmate: \" + who(not board.turn) + \" wins!\"\n",
    "        result = not board.turn\n",
    "    elif board.is_stalemate():\n",
    "        msg = \"draw: stalemate\"\n",
    "    elif board.is_fivefold_repetition():\n",
    "        msg = \"draw: fivefold repetition\"\n",
    "    elif board.is_insufficient_material():\n",
    "        msg = \"draw: insufficient material\"\n",
    "    elif board.can_claim_draw():\n",
    "        msg = \"draw: claim\"\n",
    "    if visual is not None:\n",
    "        print(msg)\n",
    "    return (result, msg, board)"
   ]
  },
  {
   "cell_type": "markdown",
   "metadata": {},
   "source": [
    "Start a game"
   ]
  },
  {
   "cell_type": "code",
   "execution_count": null,
   "metadata": {},
   "outputs": [],
   "source": [
    "play_game(aiAlphaBeta, aiAlphaBeta)"
   ]
  },
  {
   "cell_type": "code",
   "execution_count": null,
   "metadata": {},
   "outputs": [],
   "source": []
  }
 ],
 "metadata": {
  "kernelspec": {
   "display_name": "Python 3",
   "language": "python",
   "name": "python3"
  },
  "language_info": {
   "codemirror_mode": {
    "name": "ipython",
    "version": 3
   },
   "file_extension": ".py",
   "mimetype": "text/x-python",
   "name": "python",
   "nbconvert_exporter": "python",
   "pygments_lexer": "ipython3",
   "version": "3.8.1"
  }
 },
 "nbformat": 4,
 "nbformat_minor": 2
}

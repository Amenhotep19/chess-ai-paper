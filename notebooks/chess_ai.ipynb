{
 "cells": [
  {
   "cell_type": "markdown",
   "metadata": {},
   "source": [
    "An dieser Stelle werden alle notwendigen Imports getätigt."
   ]
  },
  {
   "cell_type": "code",
   "execution_count": null,
   "metadata": {
    "pycharm": {
     "is_executing": false
    }
   },
   "outputs": [],
   "source": [
    "import chess\n",
    "import chess.engine\n",
    "import chess.polyglot\n",
    "import random\n",
    "import chess.svg\n",
    "import time\n",
    "import sys\n",
    "from IPython.display import display, HTML, clear_output"
   ]
  },
  {
   "cell_type": "markdown",
   "metadata": {
    "pycharm": {
     "name": "#%% md\n"
    }
   },
   "source": [
    "Globale Konstanten"
   ]
  },
  {
   "cell_type": "code",
   "execution_count": null,
   "metadata": {
    "pycharm": {
     "is_executing": false,
     "name": "#%%\n"
    }
   },
   "outputs": [],
   "source": [
    "TIMEOUT_SECONDS: int = 30"
   ]
  },
  {
   "cell_type": "markdown",
   "metadata": {
    "pycharm": {
     "name": "#%% md\n"
    }
   },
   "source": [
    "Globale Variablen"
   ]
  },
  {
   "cell_type": "code",
   "execution_count": null,
   "metadata": {
    "pycharm": {
     "is_executing": false,
     "name": "#%%\n"
    }
   },
   "outputs": [],
   "source": [
    "best_move = None\n",
    "current_depth = 0\n",
    "global_best_move = None\n",
    "is_timeout: bool = False\n",
    "move_scores = {}\n",
    "start_time: float = 0.0"
   ]
  },
  {
   "cell_type": "markdown",
   "metadata": {
    "pycharm": {
     "name": "#%% md\n"
    }
   },
   "source": [
    "Nachfolgend werden die Figurenwerte definiert."
   ]
  },
  {
   "cell_type": "code",
   "execution_count": null,
   "metadata": {
    "pycharm": {
     "is_executing": false,
     "name": "#%%\n"
    }
   },
   "outputs": [],
   "source": [
    "piece_values = {\n",
    "    chess.BISHOP: 330,\n",
    "    chess.KING: 20_000,\n",
    "    chess.KNIGHT: 320,\n",
    "    chess.PAWN: 100,\n",
    "    chess.QUEEN: 900,\n",
    "    chess.ROOK: 500,\n",
    "}"
   ]
  },
  {
   "cell_type": "markdown",
   "metadata": {},
   "source": [
    "Die Funktion `get_piece_value` gibt den Figurenwert für eine übergebene Figur auf dem Schachbrett zurück."
   ]
  },
  {
   "cell_type": "code",
   "execution_count": null,
   "metadata": {
    "pycharm": {
     "is_executing": false,
     "name": "#%%\n"
    }
   },
   "outputs": [],
   "source": [
    "def get_piece_value(piece: chess.Piece) -> int:\n",
    "    factor = -1 if piece.color == chess.BLACK else 1\n",
    "    return factor * piece_values.get(piece.piece_type)"
   ]
  },
  {
   "cell_type": "markdown",
   "metadata": {
    "pycharm": {
     "name": "#%% md\n"
    }
   },
   "source": [
    "Nachfolgend werden die Piece-Squared Tables definiert."
   ]
  },
  {
   "cell_type": "code",
   "execution_count": null,
   "metadata": {
    "pycharm": {
     "is_executing": false,
     "name": "#%%\n"
    }
   },
   "outputs": [],
   "source": [
    "piece_squared_tables = {\n",
    "    chess.BISHOP: (\n",
    "        (-20, -10, -10, -10, -10, -10, -10, -20),\n",
    "        (-10,   0,   0,   0,   0,   0,   0, -10),\n",
    "        (-10,   0,   5,  10,  10,   5,   0, -10),\n",
    "        (-10,   5,   5,  10,  10,   5,   5, -10),\n",
    "        (-10,   0,  10,  10,  10,  10,   0, -10),\n",
    "        (-10,  10,  10,  10,  10,  10,  10, -10),\n",
    "        (-10,   5,   0,   0,   0,   0,   5, -10),\n",
    "        (-20, -10, -10, -10, -10, -10, -10, -20),\n",
    "    ),\n",
    "    chess.KING: (\n",
    "        (-30, -40, -40, -50, -50, -40, -40, -30),\n",
    "        (-30, -40, -40, -50, -50, -40, -40, -30),\n",
    "        (-30, -40, -40, -50, -50, -40, -40, -30),\n",
    "        (-30, -40, -40, -50, -50, -40, -40, -30),\n",
    "        (-20, -30, -30, -40, -40, -30, -30, -20),\n",
    "        (-10, -20, -20, -20, -20, -20, -20, -10),\n",
    "        ( 20,  20,   0,   0,   0,   0,  20,  20),\n",
    "        ( 20,  30,  10,   0,   0,  10,  30,  20),\n",
    "    ),\n",
    "    chess.KNIGHT: (\n",
    "        (-50, -40, -30, -30, -30, -30, -40, -50),\n",
    "        (-40, -20,   0,   0,   0,   0, -20, -40),\n",
    "        (-30,   0,  10,  15,  15,  10,   0, -30),\n",
    "        (-30,   5,  15,  20,  20,  15,   5, -30),\n",
    "        (-30,   0,  15,  20,  20,  15,   0, -30),\n",
    "        (-30,   5,  10,  15,  15,  10,   5, -30),\n",
    "        (-40, -20,   0,   5,   5,   0, -20, -40),\n",
    "        (-50, -40, -30, -30, -30, -30, -40, -50),\n",
    "    ),\n",
    "    chess.PAWN: (\n",
    "        (  0,   0,   0,   0,   0,   0,   0,   0),\n",
    "        ( 50,  50,  50,  50,  50,  50,  50,  50),\n",
    "        ( 10,  10,  20,  30,  30,  20,  10,  10),\n",
    "        (  5,   5,  10,  25,  25,  10,   5,   5),\n",
    "        (  0,   0,   0,  20,  20,   0,   0,   0),\n",
    "        (  5,  -5, -10,   0,   0, -10,  -5,   5),\n",
    "        (  5,  10,  10, -20, -20,  10,  10,   5),\n",
    "        (  0,   0,   0,   0,   0,   0,   0,   0),\n",
    "    ),\n",
    "    chess.QUEEN: (\n",
    "        (-20, -10, -10,  -5,  -5, -10, -10, -20),\n",
    "        (-10,   0,   0,   0,   0,   0,   0, -10),\n",
    "        (-10,   0,   5,   5,   5,   5,   0, -10),\n",
    "        ( -5,   0,   5,   5,   5,   5,   0,  -5),\n",
    "        (  0,   0,   5,   5,   5,   5,   0,  -5),\n",
    "        (-10,   5,   5,   5,   5,   5,   0, -10),\n",
    "        (-10,   0,   5,   0,   0,   0,   0, -10),\n",
    "        (-20, -10, -10,  -5,  -5, -10, -10, -20),\n",
    "    ),\n",
    "    chess.ROOK: (\n",
    "        (  0,   0,   0,   0,   0,   0,   0,   0),\n",
    "        (  5,  10,  10,  10,  10,  10,  10,   5),\n",
    "        ( -5,   0,   0,   0,   0,   0,   0,  -5),\n",
    "        ( -5,   0,   0,   0,   0,   0,   0,  -5),\n",
    "        ( -5,   0,   0,   0,   0,   0,   0,  -5),\n",
    "        ( -5,   0,   0,   0,   0,   0,   0,  -5),\n",
    "        ( -5,   0,   0,   0,   0,   0,   0,  -5),\n",
    "        (  0,   0,   0,   5,   5,   0,   0,   0),\n",
    "    ),\n",
    "}"
   ]
  },
  {
   "cell_type": "markdown",
   "metadata": {},
   "source": [
    "In der Endphase wird für den König eine andere Tabelle verwendet. Diese ist nachfolgend definiert."
   ]
  },
  {
   "cell_type": "code",
   "execution_count": null,
   "metadata": {
    "pycharm": {
     "is_executing": false,
     "name": "#%%\n"
    }
   },
   "outputs": [],
   "source": [
    "kings_end_game_squared_table = (\n",
    "    (-50, -40, -30, -20, -20, -30, -40, -50),\n",
    "    (-30, -20, -10,   0,   0, -10, -20, -30),\n",
    "    (-30, -10,  20,  30,  30,  20, -10, -30),\n",
    "    (-30, -10,  30,  40,  40,  30, -10, -30),\n",
    "    (-30, -10,  30,  40,  40,  30, -10, -30),\n",
    "    (-30, -10,  20,  30,  30,  20, -10, -30),\n",
    "    (-30, -30,   0,   0,   0,   0, -30, -30),\n",
    "    (-50, -30, -30, -30, -30, -30, -30, -50),\n",
    ")"
   ]
  },
  {
   "cell_type": "markdown",
   "metadata": {},
   "source": [
    "Aufgrund der unterschiedlichen Indizierung müssen die Reihen der Piece-Squared Tables umgekehrt werden"
   ]
  },
  {
   "cell_type": "code",
   "execution_count": null,
   "metadata": {},
   "outputs": [],
   "source": [
    "piece_squared_tables = {key: tuple(reversed(list(value))) \n",
    "                        for key, value in piece_squared_tables.items()}\n",
    "kings_end_game_squared_table = tuple(reversed(list(kings_end_game_squared_table)))"
   ]
  },
  {
   "cell_type": "markdown",
   "metadata": {},
   "source": [
    "Generierung der inversen Piece-Squared Tables"
   ]
  },
  {
   "cell_type": "code",
   "execution_count": null,
   "metadata": {},
   "outputs": [],
   "source": [
    "reversed_piece_squared_tables = {key: tuple([\n",
    "                                            piece[::-1]\n",
    "                                            for piece in value][::-1]) \n",
    "                                 for key, value in piece_squared_tables.items()}\n",
    "reversed_kings_end_game_squared_table = tuple([\n",
    "                                        piece[::-1]\n",
    "                                        for piece in kings_end_game_squared_table][::-1])"
   ]
  },
  {
   "cell_type": "markdown",
   "metadata": {},
   "source": [
    "Die Funktion `get_piece_quared_tables_value` liefert den Wert der Piece-Squared Table für eine übergebene Figur auf dem Schachbrett."
   ]
  },
  {
   "cell_type": "code",
   "execution_count": null,
   "metadata": {
    "pycharm": {
     "is_executing": false,
     "name": "#%%\n"
    }
   },
   "outputs": [],
   "source": [
    "def get_piece_squared_tables_value(piece: chess.Piece, square: int, end_game: bool=False) -> int:\n",
    "    factor = -1 if piece.color == chess.BLACK else 1\n",
    "    row = square // 8\n",
    "    column = square % 8\n",
    "    \n",
    "    if end_game and piece.piece_type == chess.KING:\n",
    "        if piece.color == chess.WHITE:\n",
    "            return kings_end_game_squared_table[row][column]\n",
    "        else:\n",
    "            return reversed_kings_end_game_squared_table[row][column]\n",
    "    \n",
    "    if piece.color == chess.WHITE:\n",
    "        piece_squared_table = piece_squared_tables.get(piece.piece_type)\n",
    "    else:\n",
    "        piece_squared_table = reversed_piece_squared_tables.get(piece.piece_type)\n",
    "        \n",
    "    return factor * piece_squared_table[row][column]"
   ]
  },
  {
   "cell_type": "markdown",
   "metadata": {},
   "source": [
    "Die Funktion `simple_eval_heuristic` setzt die einfache Bewertungsheuristik um."
   ]
  },
  {
   "cell_type": "code",
   "execution_count": null,
   "metadata": {
    "pycharm": {
     "is_executing": false,
     "name": "#%%\n"
    }
   },
   "outputs": [],
   "source": [
    "def simple_eval_heuristic(board: chess.Board, end_game: bool=False) -> int:\n",
    "    piece_value = 0\n",
    "    for square in range(64):\n",
    "        piece = board.piece_at(square)\n",
    "        if not piece:\n",
    "            continue\n",
    "        piece_value += get_piece_value(piece)\n",
    "        piece_value += get_piece_squared_tables_value(piece, square, end_game)\n",
    "    return piece_value"
   ]
  },
  {
   "cell_type": "markdown",
   "metadata": {
    "pycharm": {
     "name": "#%% md\n"
    }
   },
   "source": [
    "Implementierung des Iterative Deepening"
   ]
  },
  {
   "cell_type": "code",
   "execution_count": null,
   "metadata": {
    "pycharm": {
     "is_executing": false,
     "name": "#%%\n"
    }
   },
   "outputs": [],
   "source": [
    "def iterative_deepening(board: chess.Board, depth: int, color: int):\n",
    "    global best_move\n",
    "    global current_depth\n",
    "    global global_best_move\n",
    "    global is_timeout\n",
    "    global start_time\n",
    "    \n",
    "    if board.legal_moves == 1:\n",
    "        return board.legal_moves[0]\n",
    "    \n",
    "    is_timeout = False\n",
    "    start_time = time.time()\n",
    "    d = 0\n",
    "\n",
    "    while True:\n",
    "        if d > 1:\n",
    "            global_best_move = best_move\n",
    "            print(f\"Completed search with depth {current_depth}. Best move so far: {global_best_move} (Score: {move_scores[global_best_move]})\")\n",
    "        current_depth = depth + d\n",
    "        if color == 1:\n",
    "            minimize(board, current_depth, -sys.maxsize, sys.maxsize, color)\n",
    "        else:\n",
    "            maximize(board, current_depth, -sys.maxsize, sys.maxsize, color)\n",
    "        d += 1\n",
    "        if is_timeout:\n",
    "            return global_best_move"
   ]
  },
  {
   "cell_type": "markdown",
   "metadata": {
    "pycharm": {
     "name": "#%% md\n"
    }
   },
   "source": [
    "Implementierung der `maximize` Funktion."
   ]
  },
  {
   "cell_type": "code",
   "execution_count": null,
   "metadata": {
    "pycharm": {
     "is_executing": false,
     "name": "#%%\n"
    }
   },
   "outputs": [],
   "source": [
    "def maximize(board: chess.Board, depth: int, alpha: int, beta: int, color: int) -> int:\n",
    "    global is_timeout\n",
    "    global start_time\n",
    "    global best_move\n",
    "    global global_best_move\n",
    "    \n",
    "    if time.time() - start_time > TIMEOUT_SECONDS:\n",
    "        is_timeout = True\n",
    "        return alpha\n",
    "\n",
    "    if depth < 1:\n",
    "        return simple_eval_heuristic(board)\n",
    "    \n",
    "    score = alpha\n",
    "    moves = sorted(board.legal_moves, key=lambda move: -move_scores.get(move, 0))\n",
    "\n",
    "    for move in moves:\n",
    "        newboard = board.copy()\n",
    "        newboard.push(move)\n",
    "        move_score = minimize(newboard, depth - 1, alpha, beta, color)\n",
    "        move_scores[move] = move_score\n",
    "        newboard.pop()\n",
    "\n",
    "        if move_score > score:\n",
    "            score = move_score\n",
    "            \n",
    "            if score > alpha:\n",
    "                alpha = score\n",
    "                if depth==current_depth:\n",
    "                    best_move = move\n",
    "        if score >= beta:\n",
    "            break\n",
    "    return score"
   ]
  },
  {
   "cell_type": "markdown",
   "metadata": {
    "pycharm": {
     "name": "#%% md\n"
    }
   },
   "source": [
    "Implementierung der `minimize` Funktion."
   ]
  },
  {
   "cell_type": "code",
   "execution_count": null,
   "metadata": {
    "pycharm": {
     "is_executing": false,
     "name": "#%%\n"
    }
   },
   "outputs": [],
   "source": [
    "def minimize(board: chess.Board, depth: int, alpha: int, beta: int, color: int) -> int:\n",
    "    global best_move\n",
    "    global global_best_move\n",
    "    \n",
    "    if time.time() - start_time > TIMEOUT_SECONDS:\n",
    "        is_timeout = True\n",
    "        return beta\n",
    "    \n",
    "    if depth < 1:\n",
    "        return simple_eval_heuristic(board)\n",
    "    \n",
    "    score = beta\n",
    "    moves = sorted(board.legal_moves, key=lambda move: move_scores.get(move, 0))\n",
    "\n",
    "    for move in moves:\n",
    "        newboard = board.copy()\n",
    "        newboard.push(move)\n",
    "        move_score = maximize(newboard, depth - 1, alpha, beta, color)\n",
    "        move_scores[move] = move_score\n",
    "        newboard.pop()\n",
    "\n",
    "        if move_score < score:\n",
    "            score = move_score\n",
    "            \n",
    "            if score < beta:\n",
    "                beta = score\n",
    "                if depth==current_depth:\n",
    "                    best_move = move\n",
    "        if score <= alpha:\n",
    "            break\n",
    "    return score"
   ]
  },
  {
   "cell_type": "markdown",
   "metadata": {
    "pycharm": {
     "name": "#%% md\n"
    }
   },
   "source": [
    "`reset` ist eine Hilfsfunktion, die die globalen Werte für alpha und beta zurücksetzt."
   ]
  },
  {
   "cell_type": "code",
   "execution_count": null,
   "metadata": {
    "pycharm": {
     "is_executing": false,
     "name": "#%%\n"
    }
   },
   "outputs": [],
   "source": [
    "def reset():\n",
    "    global positions_analyzed_alpha_beta\n",
    "    global positions_analyzed_minimax\n",
    "    positions_analyzed_alpha_beta = 0\n",
    "    positions_analyzed_minimax = 0"
   ]
  },
  {
   "cell_type": "markdown",
   "metadata": {
    "pycharm": {
     "name": "#%% md\n"
    }
   },
   "source": [
    "`who` ist eine Hilfsfunktion, um den Namen des Spielers (Weiß oder Schwarz) zurückzuliefern. Dies wird für die Anzeige benötigt."
   ]
  },
  {
   "cell_type": "code",
   "execution_count": null,
   "metadata": {
    "pycharm": {
     "is_executing": false,
     "name": "#%%\n"
    }
   },
   "outputs": [],
   "source": [
    "def who(player):\n",
    "    return \"White\" if player == chess.WHITE else \"Black\""
   ]
  },
  {
   "cell_type": "markdown",
   "metadata": {
    "pycharm": {
     "name": "#%% md\n"
    }
   },
   "source": [
    "`get_move` ist eine Hilfsfunktion, die die Nutzereingabe in einen Zug umwandelt, wenn dies möglich ist."
   ]
  },
  {
   "cell_type": "code",
   "execution_count": null,
   "metadata": {
    "pycharm": {
     "is_executing": false,
     "name": "#%%\n"
    }
   },
   "outputs": [],
   "source": [
    "def get_move(prompt):\n",
    "    uci = input(prompt)\n",
    "    if uci and uci[0] == \"q\":\n",
    "        raise KeyboardInterrupt()\n",
    "    try:\n",
    "        chess.Move.from_uci(uci)\n",
    "    except:\n",
    "        uci = None\n",
    "    return uci"
   ]
  },
  {
   "cell_type": "markdown",
   "metadata": {
    "pycharm": {
     "name": "#%% md\n"
    }
   },
   "source": [
    "Die Funktion `human_player` repräsentiert den menschlichen Spieler und koordiniert die Züge des Spielers."
   ]
  },
  {
   "cell_type": "code",
   "execution_count": null,
   "metadata": {
    "pycharm": {
     "is_executing": false,
     "name": "#%%\n"
    }
   },
   "outputs": [],
   "source": [
    "def human_player(board):\n",
    "    display(board)\n",
    "    uci = get_move(f\"{who(board.turn)}'s move [q to quit]>\")\n",
    "    legal_uci_moves = [move.uci() for move in board.legal_moves]\n",
    "    while uci not in legal_uci_moves:\n",
    "        print(f\"Legal moves: {(', '.join(sorted(legal_uci_moves)))}\")\n",
    "        uci = get_move(f\"{who(board.turn)}'s move [q to quit]>\")\n",
    "    return uci"
   ]
  },
  {
   "cell_type": "markdown",
   "metadata": {
    "pycharm": {
     "is_executing": false,
     "name": "#%% md\n"
    }
   },
   "source": [
    "Die Funktion `ai_player` repräsentiert den Schachcomputer und koordiniert den Ablauf seines Entscheidungsprozesses."
   ]
  },
  {
   "cell_type": "code",
   "execution_count": null,
   "metadata": {
    "pycharm": {
     "is_executing": false,
     "name": "#%%\n"
    }
   },
   "outputs": [],
   "source": [
    "def ai_player(board: chess.Board, color: int):\n",
    "    move = get_opening_data_base_moves(board)\n",
    "    \n",
    "    if move:\n",
    "        return move\n",
    "    else:\n",
    "        global move_scores\n",
    "        move_scores = {}\n",
    "        return iterative_deepening(board, 0, color)"
   ]
  },
  {
   "cell_type": "markdown",
   "metadata": {
    "pycharm": {
     "name": "#%% md\n"
    }
   },
   "source": [
    "Die Funktion `get_opening_data_base_moves` gibt einen Zug aus der Opening Data Base zurück, falls ein Zug für die aktuelle Stellung gefunden werden kann."
   ]
  },
  {
   "cell_type": "code",
   "execution_count": null,
   "metadata": {
    "pycharm": {
     "is_executing": false,
     "name": "#%%\n"
    }
   },
   "outputs": [],
   "source": [
    "def get_opening_data_base_moves(board: chess.Board):\n",
    "    move = None\n",
    "    opening_moves = []\n",
    "    with chess.polyglot.open_reader(\"Performance.bin\") as reader:\n",
    "        for entry in reader.find_all(board):\n",
    "            opening_moves.append(entry)\n",
    "    if opening_moves:\n",
    "        random_entry = random.choice(opening_moves)\n",
    "        move = random_entry.move\n",
    "        print(move)\n",
    "    return move"
   ]
  },
  {
   "cell_type": "markdown",
   "metadata": {
    "pycharm": {
     "name": "#%% md\n"
    }
   },
   "source": [
    "`play_game` ist die Funktion, die den Spielablauf koordiniert."
   ]
  },
  {
   "cell_type": "code",
   "execution_count": null,
   "metadata": {
    "pycharm": {
     "is_executing": false,
     "name": "#%%\n"
    }
   },
   "outputs": [],
   "source": [
    "def play_game(pause=1):\n",
    "    board = chess.Board()\n",
    "    \n",
    "    try:\n",
    "        while not board.is_game_over(claim_draw=True):\n",
    "            if board.turn == chess.WHITE:\n",
    "                #move = board.parse_uci(human_player(board))\n",
    "                move = ai_player(board, chess.WHITE)\n",
    "            else:\n",
    "                move = ai_player(board, chess.BLACK)\n",
    "                \n",
    "            name = who(board.turn)\n",
    "            board.push(move)\n",
    "            html = \"<br/>%s </b>\"%(board._repr_svg_())\n",
    "            clear_output(wait=True)\n",
    "            display(HTML(html))\n",
    "            time.sleep(pause)\n",
    "    except KeyboardInterrupt:\n",
    "        msg = \"Game interrupted\"\n",
    "        return None, msg, board\n",
    "    \n",
    "    result = None\n",
    "    if board.is_checkmate():\n",
    "        msg = \"checkmate: \" + who(not board.turn) + \" wins!\"\n",
    "        result = not board.turn\n",
    "    elif board.is_stalemate():\n",
    "        msg = \"draw: stalemate\"\n",
    "    elif board.is_fivefold_repetition():\n",
    "        msg = \"draw: fivefold repetition\"\n",
    "    elif board.is_insufficient_material():\n",
    "        msg = \"draw: insufficient material\"\n",
    "    elif board.can_claim_draw():\n",
    "        msg = \"draw: claim\"\n",
    "    \n",
    "    print(msg)\n",
    "    return result, msg, board"
   ]
  },
  {
   "cell_type": "code",
   "execution_count": null,
   "metadata": {
    "pycharm": {
     "is_executing": false,
     "name": "#%%\n"
    },
    "scrolled": false
   },
   "outputs": [],
   "source": [
    "play_game()"
   ]
  },
  {
   "cell_type": "code",
   "execution_count": null,
   "metadata": {
    "pycharm": {
     "is_executing": false,
     "name": "#%%\n"
    }
   },
   "outputs": [],
   "source": [
    "\n"
   ]
  }
 ],
 "metadata": {
  "kernelspec": {
   "display_name": "Python 3",
   "language": "python",
   "name": "python3"
  },
  "language_info": {
   "codemirror_mode": {
    "name": "ipython",
    "version": 3
   },
   "file_extension": ".py",
   "mimetype": "text/x-python",
   "name": "python",
   "nbconvert_exporter": "python",
   "pygments_lexer": "ipython3",
   "version": "3.8.2"
  },
  "pycharm": {
   "stem_cell": {
    "cell_type": "raw",
    "metadata": {
     "collapsed": false
    },
    "source": []
   }
  }
 },
 "nbformat": 4,
 "nbformat_minor": 1
}

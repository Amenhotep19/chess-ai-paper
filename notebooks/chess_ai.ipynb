{
 "cells": [
  {
   "cell_type": "markdown",
   "metadata": {},
   "source": [
    "Zuerst werden alle notwendigen Pakete und Module importiert.\n",
    "Dabei wird neben den Modulen der Standardbibliothek (`random`, `sys` und `time`) und des `defaultdict` aus dem `collections` Modul noch das Paket *Python-Chess* (`chess`) benötigt, welches bereits installiert wurde.\n",
    "Zudem werden für die Anzeige einige Funktionen aus IPython benötigt, die durch die Installation und Verwendung von Jupyter Notebooks bereitgestellt werden."
   ]
  },
  {
   "cell_type": "code",
   "execution_count": null,
   "metadata": {
    "pycharm": {
     "is_executing": false
    }
   },
   "outputs": [],
   "source": [
    "import random\n",
    "import sys\n",
    "import time\n",
    "\n",
    "import chess\n",
    "import chess.engine\n",
    "import chess.polyglot\n",
    "import chess.svg\n",
    "\n",
    "from collections import defaultdict\n",
    "\n",
    "from IPython.display import display, HTML, clear_output"
   ]
  },
  {
   "cell_type": "markdown",
   "metadata": {
    "pycharm": {
     "name": "#%% md\n"
    }
   },
   "source": [
    "Als nächstes wird eine globale Konstante `TIMEOUT_SECONDS` definiert.\n",
    "Diese wird verwendet, um die Zeit des Schachcomputers zur Berechnung seines nächsten Zuges festzulegen."
   ]
  },
  {
   "cell_type": "code",
   "execution_count": null,
   "metadata": {
    "pycharm": {
     "is_executing": false,
     "name": "#%%\n"
    }
   },
   "outputs": [],
   "source": [
    "TIMEOUT_SECONDS: int = 30"
   ]
  },
  {
   "cell_type": "markdown",
   "metadata": {
    "pycharm": {
     "name": "#%% md\n"
    }
   },
   "source": [
    "Im folgenden Schritt werden einige globale Variablen definiert.\n",
    "Dieser Schritt ist notwendig, um die Funktionsköpfe möglichst nah am Pseudocode aus dem Theorieteil und der Literatur zu halten.\n",
    "\n",
    "- Die Variable `best_move` enthält den besten Zug für die aktuelle Iteration der `iterative_deepening`-Funktion.\n",
    "- Demgegenüber speichert die Variable `global_best_move` den besten Zug aus allen Iterationen der iterativen Tiefensuche und somit den Zug, der vom Schachcomputer am Ende seines Zuges ausgeführt wird.\n",
    "- `current_depth` speichert die aktuelle Tiefe für das Iterative Deepening.\n",
    "- `is_timeout` ist genau dann wahr, wenn die Zeit des Schachcomputers abgelaufen ist.\n",
    "- Bei `move_scores` handelt es sich um ein Dictionary, dass den Score für jeden bereits besuchten Zug im Iterative Deepening Verfahren speichert.\n",
    "Dabei handelt es sich speziell um ein verschachteltes Dictionary.\n",
    "Die Schlüssel auf der obersten Ebene bilden die Stellungen in FEN Notation.\n",
    "Der dazugehörige Wert ist wiederum ein Dictionary mit den Zügen als Schlüssel und dem dazugehörigen Score als Wert.\n",
    "- `neighbor_boards` ist ein Dictionary, dass alle Stellungen enthält, die in einem Halbzug von der aktuellen Stellung aus erreicht werden können und die evaluiert wurden.\n",
    "Es dient dazu, das Dictionary `move_scores` zu beschneiden.\n",
    "- In der Variablen `start_time` wird die Startzeit des Zuges des Schachcomputers abgelegt."
   ]
  },
  {
   "cell_type": "code",
   "execution_count": null,
   "metadata": {
    "pycharm": {
     "is_executing": false,
     "name": "#%%\n"
    }
   },
   "outputs": [],
   "source": [
    "best_move = None\n",
    "current_depth = 0\n",
    "global_best_move = None\n",
    "is_timeout: bool = False\n",
    "move_scores = defaultdict(dict)\n",
    "neighbor_boards = defaultdict(list)\n",
    "start_time: float = 0.0"
   ]
  },
  {
   "cell_type": "markdown",
   "metadata": {
    "pycharm": {
     "name": "#%% md\n"
    }
   },
   "source": [
    "Nachdem alle notwendigen globalen Definitionen getätigt worden sind, wird nun die verwendete Bewertungsheuristik umgesetzt.\n",
    "Da sich die Bewertungsfunktion in zwei Teile aufteilt, werden diese getrennt implementiert und am Ende zusammengefügt.\n",
    "Zuerst erfolgt die Umsetzung der Figurenwerte.\n",
    "Hierfür wird ein Dictionary `piece_values` angelegt, dass jeder Figur ihren entsprechenden Wert zuweist."
   ]
  },
  {
   "cell_type": "code",
   "execution_count": null,
   "metadata": {
    "pycharm": {
     "is_executing": false,
     "name": "#%%\n"
    }
   },
   "outputs": [],
   "source": [
    "piece_values = {\n",
    "    chess.BISHOP: 330,\n",
    "    chess.KING: 20_000,\n",
    "    chess.KNIGHT: 320,\n",
    "    chess.PAWN: 100,\n",
    "    chess.QUEEN: 900,\n",
    "    chess.ROOK: 500,\n",
    "}"
   ]
  },
  {
   "cell_type": "markdown",
   "metadata": {},
   "source": [
    "Die Funktion `get_piece_value` gibt den Figurenwert für eine übergebene Figur auf dem Schachbrett zurück.\n",
    "Handelt es sich bei der Figur um eine der Farbe Schwarz, so wird der negierte Werte zurückgegeben, da der Schwarze Spieler der minimierende Spieler ist."
   ]
  },
  {
   "cell_type": "code",
   "execution_count": null,
   "metadata": {
    "pycharm": {
     "is_executing": false,
     "name": "#%%\n"
    }
   },
   "outputs": [],
   "source": [
    "def get_piece_value(piece: chess.Piece) -> int:\n",
    "    factor = -1 if piece.color == chess.BLACK else 1\n",
    "    return factor * piece_values.get(piece.piece_type)"
   ]
  },
  {
   "cell_type": "markdown",
   "metadata": {
    "pycharm": {
     "name": "#%% md\n"
    }
   },
   "source": [
    "Als nächstes werden die figurenspezifischen Positionstabellen implementiert.\n",
    "Dafür wird ein Dictionary `piece_squared_tables` angelegt, welches für jede Figur die entsprechende Positionstabelle speichert.\n",
    "Die Tabellen werden dabei als Tupel von Tupel gespeichert, da die Veränderung der Werte während des Spiels nicht zulässig ist.\n",
    "Die Tabellen sind aus dem Theorieteil übernommen worden, weshalb sie aus Sicht des weißen Spielers zu betrachten sind.\n",
    "Das Feld A1 befindet sich somit unten links, was dem Index `[7][0]` entspricht."
   ]
  },
  {
   "cell_type": "code",
   "execution_count": null,
   "metadata": {
    "pycharm": {
     "is_executing": false,
     "name": "#%%\n"
    }
   },
   "outputs": [],
   "source": [
    "piece_squared_tables = {\n",
    "    chess.BISHOP: (\n",
    "        (-20, -10, -10, -10, -10, -10, -10, -20),\n",
    "        (-10,   0,   0,   0,   0,   0,   0, -10),\n",
    "        (-10,   0,   5,  10,  10,   5,   0, -10),\n",
    "        (-10,   5,   5,  10,  10,   5,   5, -10),\n",
    "        (-10,   0,  10,  10,  10,  10,   0, -10),\n",
    "        (-10,  10,  10,  10,  10,  10,  10, -10),\n",
    "        (-10,   5,   0,   0,   0,   0,   5, -10),\n",
    "        (-20, -10, -10, -10, -10, -10, -10, -20),\n",
    "    ),\n",
    "    chess.KING: (\n",
    "        (-30, -40, -40, -50, -50, -40, -40, -30),\n",
    "        (-30, -40, -40, -50, -50, -40, -40, -30),\n",
    "        (-30, -40, -40, -50, -50, -40, -40, -30),\n",
    "        (-30, -40, -40, -50, -50, -40, -40, -30),\n",
    "        (-20, -30, -30, -40, -40, -30, -30, -20),\n",
    "        (-10, -20, -20, -20, -20, -20, -20, -10),\n",
    "        ( 20,  20,   0,   0,   0,   0,  20,  20),\n",
    "        ( 20,  30,  10,   0,   0,  10,  30,  20),\n",
    "    ),\n",
    "    chess.KNIGHT: (\n",
    "        (-50, -40, -30, -30, -30, -30, -40, -50),\n",
    "        (-40, -20,   0,   0,   0,   0, -20, -40),\n",
    "        (-30,   0,  10,  15,  15,  10,   0, -30),\n",
    "        (-30,   5,  15,  20,  20,  15,   5, -30),\n",
    "        (-30,   0,  15,  20,  20,  15,   0, -30),\n",
    "        (-30,   5,  10,  15,  15,  10,   5, -30),\n",
    "        (-40, -20,   0,   5,   5,   0, -20, -40),\n",
    "        (-50, -40, -30, -30, -30, -30, -40, -50),\n",
    "    ),\n",
    "    chess.PAWN: (\n",
    "        (  0,   0,   0,   0,   0,   0,   0,   0),\n",
    "        ( 50,  50,  50,  50,  50,  50,  50,  50),\n",
    "        ( 10,  10,  20,  30,  30,  20,  10,  10),\n",
    "        (  5,   5,  10,  25,  25,  10,   5,   5),\n",
    "        (  0,   0,   0,  20,  20,   0,   0,   0),\n",
    "        (  5,  -5, -10,   0,   0, -10,  -5,   5),\n",
    "        (  5,  10,  10, -20, -20,  10,  10,   5),\n",
    "        (  0,   0,   0,   0,   0,   0,   0,   0),\n",
    "    ),\n",
    "    chess.QUEEN: (\n",
    "        (-20, -10, -10,  -5,  -5, -10, -10, -20),\n",
    "        (-10,   0,   0,   0,   0,   0,   0, -10),\n",
    "        (-10,   0,   5,   5,   5,   5,   0, -10),\n",
    "        ( -5,   0,   5,   5,   5,   5,   0,  -5),\n",
    "        (  0,   0,   5,   5,   5,   5,   0,  -5),\n",
    "        (-10,   5,   5,   5,   5,   5,   0, -10),\n",
    "        (-10,   0,   5,   0,   0,   0,   0, -10),\n",
    "        (-20, -10, -10,  -5,  -5, -10, -10, -20),\n",
    "    ),\n",
    "    chess.ROOK: (\n",
    "        (  0,   0,   0,   0,   0,   0,   0,   0),\n",
    "        (  5,  10,  10,  10,  10,  10,  10,   5),\n",
    "        ( -5,   0,   0,   0,   0,   0,   0,  -5),\n",
    "        ( -5,   0,   0,   0,   0,   0,   0,  -5),\n",
    "        ( -5,   0,   0,   0,   0,   0,   0,  -5),\n",
    "        ( -5,   0,   0,   0,   0,   0,   0,  -5),\n",
    "        ( -5,   0,   0,   0,   0,   0,   0,  -5),\n",
    "        (  0,   0,   0,   5,   5,   0,   0,   0),\n",
    "    ),\n",
    "}"
   ]
  },
  {
   "cell_type": "markdown",
   "metadata": {},
   "source": [
    "In der Endphase wird für den König eine andere Positionstabelle verwendet.\n",
    "Diese ist nachfolgend definiert und wird der Variablen `kings_end_game_squared_table` zugewiesen."
   ]
  },
  {
   "cell_type": "code",
   "execution_count": null,
   "metadata": {
    "pycharm": {
     "is_executing": false,
     "name": "#%%\n"
    }
   },
   "outputs": [],
   "source": [
    "kings_end_game_squared_table = (\n",
    "    (-50, -40, -30, -20, -20, -30, -40, -50),\n",
    "    (-30, -20, -10,   0,   0, -10, -20, -30),\n",
    "    (-30, -10,  20,  30,  30,  20, -10, -30),\n",
    "    (-30, -10,  30,  40,  40,  30, -10, -30),\n",
    "    (-30, -10,  30,  40,  40,  30, -10, -30),\n",
    "    (-30, -10,  20,  30,  30,  20, -10, -30),\n",
    "    (-30, -30,   0,   0,   0,   0, -30, -30),\n",
    "    (-50, -30, -30, -30, -30, -30, -30, -50),\n",
    ")"
   ]
  },
  {
   "cell_type": "markdown",
   "metadata": {},
   "source": [
    "Das Paket Python-Chess weist jeder Positionen einen Ganzzahlwert zu.\n",
    "So erhält das Feld A1 den Zahlenwert 0, das Feld B1 den Wert 1.\n",
    "Diese Zuweisung lässt sich bis zum letzten Feld H8 fortführen, das den Zahlenwert 63 erhält.\n",
    "Um nachfolgend effizient auf die Positionswerte basierend auf dem Zahlenwert des Feldes zugreifen zu können, müssen die Zeilen der Positionstabellen umgekehrt werden, sodass Zeile 1 den Index 0 und die Zeile 8 den Index 7 erhält.\n",
    "Dafür wird im Folgenden über jedes Schlüssel-Wert-Paar des `piece_squared_tables` Dictionary iteriert, die Tabelle in eine Liste konvertiert, diese Liste dann umgekehrt und anschließend in ein Tupel zurück überführt.\n",
    "Analog wird die eine Tabelle, die in der Variablen `kings_end_game_squared_table` abgelegt ist, in eine Liste überführt und deren Elemente in umgekehrter Reihenfolge als Tupel in die Variable zurückgeschrieben."
   ]
  },
  {
   "cell_type": "code",
   "execution_count": null,
   "metadata": {},
   "outputs": [],
   "source": [
    "piece_squared_tables = {key: tuple(reversed(list(value))) \n",
    "                        for key, value in piece_squared_tables.items()}\n",
    "kings_end_game_squared_table = tuple(reversed(list(kings_end_game_squared_table)))"
   ]
  },
  {
   "cell_type": "markdown",
   "metadata": {},
   "source": [
    "Die bisher definierten Positionstabellen sind aus der Sicht des Weißen bzw. maximierenden Spielers definiert.\n",
    "Da der zu entwickelnde Schachcomputer aber beide Farben und damit auch gegen sich selber spielen können soll, müssen noch die Positionstabellen für den minimierenden Spieler generiert werden.\n",
    "Hierzu werden wie beim maximierenden Spieler die Zeilen der Tabellen umgekehrt.\n",
    "Weil sich aber die Tabelle als ganzen um 180° drehen muss, werden zusätzlich alle Spalten, was den Elementen innerhalb der Zeilen entspricht, umgedreht.\n",
    "Das resultierende Dictionary bzw. die resultierende Positionstabelle für den König in der Endphase, werden in den zugehörigen Variablennamen mit dem Präfix `reversed_` abgelegt."
   ]
  },
  {
   "cell_type": "code",
   "execution_count": null,
   "metadata": {},
   "outputs": [],
   "source": [
    "reversed_piece_squared_tables = {key: tuple([\n",
    "                                            piece[::-1]\n",
    "                                            for piece in value][::-1]) \n",
    "                                 for key, value in piece_squared_tables.items()}\n",
    "reversed_kings_end_game_squared_table = tuple([\n",
    "                                        piece[::-1]\n",
    "                                        for piece in kings_end_game_squared_table][::-1])"
   ]
  },
  {
   "cell_type": "markdown",
   "metadata": {},
   "source": [
    "Die Funktion `get_piece_quared_tables_value` liefert den Wert der figurenspezifischen Positionstabellen für eine übergebene Figur `piece` auf dem Schachbrett.\n",
    "Der Zeilen- und Spaltenindex in der Tabelle wird basierend auf dem Zahlenwert des Feldes, auf dem die Figur sich befindet (`square`), berechnet.\n",
    "Dabei entspricht der Zeilenindex dem Ergebnis der Ganzzahldivision durch 8 und der Spaltenindex dem Rest aus der Division mit der Zahl 8.\n",
    "Zudem wird ein Parameter `end_game` benötigt, der genau dann wahr ist, wenn sich das Spiel in der Endphase befindet und für den König eine abweichende Positionstabelle verwendet wird.\n",
    "Des Weiteren wird erneut der gefundene Wert negiert, wenn es sich bei der Farbe um Schwarz und somit um den minimierenden Spieler handelt."
   ]
  },
  {
   "cell_type": "code",
   "execution_count": null,
   "metadata": {
    "pycharm": {
     "is_executing": false,
     "name": "#%%\n"
    }
   },
   "outputs": [],
   "source": [
    "def get_piece_squared_tables_value(piece: chess.Piece, square: int, end_game: bool=False) -> int:\n",
    "    factor = -1 if piece.color == chess.BLACK else 1\n",
    "    row = square // 8\n",
    "    column = square % 8\n",
    "    \n",
    "    if end_game and piece.piece_type == chess.KING:\n",
    "        if piece.color == chess.WHITE:\n",
    "            return kings_end_game_squared_table[row][column]\n",
    "        else:\n",
    "            return reversed_kings_end_game_squared_table[row][column]\n",
    "    \n",
    "    if piece.color == chess.WHITE:\n",
    "        piece_squared_table = piece_squared_tables.get(piece.piece_type)\n",
    "    else:\n",
    "        piece_squared_table = reversed_piece_squared_tables.get(piece.piece_type)\n",
    "        \n",
    "    return factor * piece_squared_table[row][column]"
   ]
  },
  {
   "cell_type": "markdown",
   "metadata": {},
   "source": [
    "Die Funktion `simple_eval_heuristic` setzt die einfache Bewertungsheuristik um.\n",
    "Sie erhält als Eingabeparameter die aktuelle Stellung `board` und ob sich das Spiel in der Endphase befindet (`end_game`).\n",
    "Die Funktion schaut sich jedes Feld des Schachbretts an.\n",
    "Befindet sich eine Figur auf dem Feld, so werden der Figurenwert und der Positionswert bestimmt und zum Endergebnis, das in der Variablen `piece_value` gespeichert wird, addiert.\n",
    "Das Ergebnis wird dann zurückgegeben."
   ]
  },
  {
   "cell_type": "code",
   "execution_count": null,
   "metadata": {
    "pycharm": {
     "is_executing": false,
     "name": "#%%\n"
    }
   },
   "outputs": [],
   "source": [
    "def simple_eval_heuristic(board: chess.Board, end_game: bool = False) -> int:\n",
    "    piece_value = 0\n",
    "    for square in range(64):\n",
    "        piece = board.piece_at(square)\n",
    "        if not piece:\n",
    "            continue\n",
    "        piece_value += get_piece_value(piece)\n",
    "        piece_value += get_piece_squared_tables_value(piece, square, end_game)\n",
    "    return piece_value"
   ]
  },
  {
   "cell_type": "markdown",
   "metadata": {
    "pycharm": {
     "name": "#%% md\n"
    }
   },
   "source": [
    "Nachdem die verwendete Bewertungsheuristik implementiert ist, kann nun das Alpha-Beta Pruning zusammen mit dem Iterative Deepening umgesetzt werden.\n",
    "Hierfür wird eine Funktion `iterative_deepening` implementiert, die den Ablauf dieses Prozesses koordiniert.\n",
    "Sie erhält folgende drei Parameter:\n",
    "\n",
    "- Der Parameter `board` enthält die aktuelle Stellung.\n",
    "- Die initiale Tiefe, bei der gesucht wird, wird mit dem Parameter `depth` übergeben.\n",
    "- `color` repräsentiert den Spieler, der aktuell am Zug ist.\n",
    "\n",
    "Alle anderen benötigten Informationen werden global abgelegt.\n",
    "Zu Beginn des Iterative Deepening wird geprüft, ob der Spieler nur einen erlaubten Zug machen kann.\n",
    "Ist dies der Fall, so wird er sofort zurückgegeben und keine weiteren Berechnungen sind von Nöten.\n",
    "Ist mehr als ein zulässiger Zug möglich, so wird die aktuelle Systemzeit global gespeichert und die Variable `d` mit 0 initialisiert.\n",
    "`d` repräsentiert hierbei die Tiefe, die zur initialen Tiefe `depth` hinzugefügt wird.\n",
    "In einer Endlosschleife wird sukzessiv die Suchtiefe erhöht und `minimize` bzw. `maximize` aufgerufen.\n",
    "Sowohl `alpha` als auch `beta` werden mit einem sehr hohen bzw. sehr niedrigen Zahlenwert initialisiert.\n",
    "Bei jedem Schleifendurchlauf wird dabei dem globale besten Zug (`global_best_move`) der Zug aus der Variablen `best_move` zugewiesen.\n",
    "Des Weiteren wird überprüft, ob die Zeit des Schachcomputers abgelaufen ist.\n",
    "Ist dies der Fall, wird der globale beste Zug zurückgegeben.\n",
    "\n",
    "Um das starke Anwachsen des `move_scores` Dictionary zu verhindert, wird dieses am Ende des Zuges des Schachcomputers beschnitten.\n",
    "Zum weiteren Verständnis dient folgende Grafik.\n",
    "\n",
    "![neighbor-boards](neighbor-boards.png)\n",
    "\n",
    "Die einzelnen Knoten des Graphen repräsentieren die möglichen Stellungen, wobei der Knoten 0 die aktuelle Stellung darstellt.\n",
    "Entscheidet sich der Spieler für den linken Pfad (zum Knoten 1.1), so werden die Stellungen zu den Knoten 0 und 1.2 gelöscht.\n",
    "Entscheidet sich im darauffolgenden Zug der aktuelle Spieler für den rechten Pfad (zum Knoten 2.1.2), so wird der Elternknoten 1.1 sowie alle Knoten auf der selben Ebene (2.1.1, 2.2.1 und 2.2.2) gelöscht.\n",
    "Auf diese Weise wird das starke Anwachsen des `move_scores` Dictionary eingeschränkt.\n",
    "Bei dieser Lösung handelt es sich um eine recht einfache Lösungen, die zwar optimiert werden kann, jedoch nicht weiter verfolgt wird."
   ]
  },
  {
   "cell_type": "code",
   "execution_count": null,
   "metadata": {
    "pycharm": {
     "is_executing": false,
     "name": "#%%\n"
    }
   },
   "outputs": [],
   "source": [
    "def iterative_deepening(board: chess.Board, depth: int, color: int):\n",
    "    global best_move\n",
    "    global current_depth\n",
    "    global global_best_move\n",
    "    global is_timeout\n",
    "    global neighbor_boards\n",
    "    global start_time\n",
    "\n",
    "    if board.legal_moves == 1:\n",
    "        return board.legal_moves[0]\n",
    "\n",
    "    is_timeout = False\n",
    "    start_time = time.time()\n",
    "    d = 0\n",
    "\n",
    "    while True:\n",
    "        if d > 1:\n",
    "            global_best_move = best_move\n",
    "            print(\n",
    "                f\"Completed search with depth {current_depth}. Best move so far: {global_best_move} (Score: {move_scores[board.fen()][global_best_move]})\"\n",
    "            )\n",
    "        current_depth = depth + d\n",
    "        if color == chess.BLACK:\n",
    "            minimize(board, current_depth, -sys.maxsize, sys.maxsize, color)\n",
    "        else:\n",
    "            maximize(board, current_depth, -sys.maxsize, sys.maxsize, color)\n",
    "        d += 1\n",
    "        if is_timeout:\n",
    "            del move_scores[board.fen()]\n",
    "            newboard = board.copy()\n",
    "            newboard.push(global_best_move)\n",
    "            for neighbor_board in neighbor_boards[1]:\n",
    "                if neighbor_board != newboard.fen():\n",
    "                    try:\n",
    "                        del move_scores[neighbor_board]\n",
    "                    except KeyError:\n",
    "                        pass\n",
    "            neighbor_boards = defaultdict(\n",
    "                list,\n",
    "                {key - 1: value for key, value in neighbor_boards.items() if key != 1},\n",
    "            )\n",
    "            return global_best_move"
   ]
  },
  {
   "cell_type": "markdown",
   "metadata": {
    "pycharm": {
     "name": "#%% md\n"
    }
   },
   "source": [
    "Die Implementierung der Funktion `maximize` orientiert sich stark am Pseudocode aus dem Theorieteil.\n",
    "Die Funktion erhält fünf Parameter.\n",
    "\n",
    "- `board` enthält die aktuelle Stellung.\n",
    "- `depth` repräsentiert die Tiefe, mit der `maximize` aufgerufen wird.\n",
    "- `alpha` repräsentiert die Variable Alpha des Alpha-Beta Prunings.\n",
    "- `beta` repräsentiert die Variable Beta des Alpha-Beta Prunings.\n",
    "- `color` steht für den Spieler, der gerade am Zug ist.\n",
    "\n",
    "Zu Beginn wird geprüft, ob die Zeit des Schachcomputers bereits abgelaufen ist.\n",
    "Ist dies der Fall, so wird die Variable `is_timeout` auf `True` gesetzt und `alpha` zurückgegeben.\n",
    "Ist die Zeit noch nicht abgelaufen wird des Weiteren überprüft, ob es sich bei der aktuellen Suchtiefe um eine Tiefe kleiner als 1 handelt.\n",
    "Ist dies der Fall, wird die aktuelle Stellung mittels der Bewertungsheuristik evaluiert und der entsprechende Wert zurückgeliefert.\n",
    "Anschließend werden alle zulässigen Züge nach ihren Scores sortiert, sodass aussichtsreichere Züge zuerst evaluiert werden.\n",
    "Ist kein Score für einen zulässigen Zug vorhanden, so wird diesem der für den Spieler schlechteste Score (`-sys.maxsize`) zugewiesen.\n",
    "Anschließend wird über alle zulässigen Züge iteriert und die Funktion `minimize` nach der Ausführung des Zuges des aktuellen Schleifendurchlaufs aufgerufen.\n",
    "Die Variablen `score` und `alpha` werden basierend auf dem Wert von `move_score` aktualisiert, wie dies im Pseudocode aus dem Theorieteil der Fall ist.\n",
    "Zusätzlich wird `best_move` der aktuelle Zug zugewiesen, wenn folgende drei Bedingungen erfüllt sind:\n",
    "\n",
    "1. Der aktuelle Score ist größer als Alpha, wodurch die Variable `alpha` aktualisiert wird und ein möglicher neuer bester Zug gefunden wurde.\n",
    "1. Die aktuelle Suchtiefe entspricht der Suchtiefe, mit der die Funktion `iterative_deepening` die aktuelle Iteration anstieß.\n",
    "1. Beim Spieler, der derzeit am Zug ist, handelt es sich um den Weißen bzw. maximierenden Spieler.\n",
    "\n",
    "Während des Schleifendurchlaufs wird der `move_score` für einen Zug im Dictionary `move_scores` abgelegt.\n",
    "Dabei wird er der Stellung zugewiesen, die als Ausgangsstellung für den Zug dient."
   ]
  },
  {
   "cell_type": "code",
   "execution_count": null,
   "metadata": {
    "pycharm": {
     "is_executing": false,
     "name": "#%%\n"
    }
   },
   "outputs": [],
   "source": [
    "def maximize(board: chess.Board, depth: int, alpha: int, beta: int, color: int) -> int:\n",
    "    global best_move\n",
    "    global global_best_move\n",
    "    global is_timeout\n",
    "    global neighbor_boards\n",
    "    global start_time\n",
    "\n",
    "    if time.time() - start_time > TIMEOUT_SECONDS:\n",
    "        is_timeout = True\n",
    "        return alpha\n",
    "\n",
    "    if depth < 1:\n",
    "        return simple_eval_heuristic(board)\n",
    "\n",
    "    score = alpha\n",
    "\n",
    "    board_scores = move_scores.get(board.fen(), dict())\n",
    "    moves = sorted(\n",
    "        board.legal_moves, key=lambda move: -board_scores.get(move, -sys.maxsize),\n",
    "    )\n",
    "\n",
    "    for move in moves:\n",
    "        newboard = board.copy()\n",
    "        newboard.push(move)\n",
    "        move_score = minimize(newboard, depth - 1, alpha, beta, color)\n",
    "        move_scores[board.fen()][move] = move_score\n",
    "        neighbor_boards[current_depth - depth + 1].append(newboard.fen())\n",
    "        newboard.pop()\n",
    "\n",
    "        if move_score > score:\n",
    "            score = move_score\n",
    "\n",
    "            if score >= alpha:\n",
    "                alpha = score\n",
    "                if depth == current_depth and color == chess.WHITE:\n",
    "                    best_move = move\n",
    "        if alpha >= beta:\n",
    "            return alpha\n",
    "    return score"
   ]
  },
  {
   "cell_type": "markdown",
   "metadata": {
    "pycharm": {
     "name": "#%% md\n"
    }
   },
   "source": [
    "Die Funktion `minimize` ist zu großen Teilen mit der Funktion `maximize` identisch, wie dies auch im Pseudocode aus dem Theorieteil der Fall ist.\n",
    "Die Unterschiede zur `maximize`-Implementierung sind:\n",
    "\n",
    "- Die Liste der zulässigen Züge ist aufwärts und nicht abwärts sortiert.\n",
    "Somit fängt der Schachcomputer mit dem Zug an, der den geringsten Score besitzt.\n",
    "Zudem ist der für den Spieler schlechteste Zug nun `sys.maxsize`.\n",
    "- Es wird die Variable `beta` aktualisiert und nicht die Variable `alpha`.\n",
    "Diese wird zudem aktualisiert, wenn der aktuelle `score` niedriger und somit besser ist.\n",
    "- Eine der Bedingungen für die Aktualisierung des `best_move` ändert sich: So wird nun die Variable nur gesetzt, wenn der Schwarze bzw. minimierende Spieler am Zug ist."
   ]
  },
  {
   "cell_type": "code",
   "execution_count": null,
   "metadata": {
    "pycharm": {
     "is_executing": false,
     "name": "#%%\n"
    }
   },
   "outputs": [],
   "source": [
    "def minimize(board: chess.Board, depth: int, alpha: int, beta: int, color: int) -> int:\n",
    "    global best_move\n",
    "    global global_best_move\n",
    "    global is_timeout\n",
    "    global neighbor_boards\n",
    "    global start_time\n",
    "\n",
    "    if time.time() - start_time > TIMEOUT_SECONDS:\n",
    "        is_timeout = True\n",
    "        return beta\n",
    "\n",
    "    if depth < 1:\n",
    "        return simple_eval_heuristic(board)\n",
    "\n",
    "    score = beta\n",
    "\n",
    "    board_scores = move_scores.get(board.fen(), dict())\n",
    "    moves = sorted(\n",
    "        board.legal_moves, key=lambda move: board_scores.get(move, sys.maxsize),\n",
    "    )\n",
    "\n",
    "    for move in moves:\n",
    "        newboard = board.copy()\n",
    "        newboard.push(move)\n",
    "        move_score = maximize(newboard, depth - 1, alpha, beta, color)\n",
    "        move_scores[board.fen()][move] = move_score\n",
    "        neighbor_boards[current_depth - depth + 1].append(newboard.fen())\n",
    "        newboard.pop()\n",
    "\n",
    "        if move_score < score:\n",
    "            score = move_score\n",
    "\n",
    "            if score <= beta:\n",
    "                beta = score\n",
    "                if depth == current_depth and color == chess.BLACK:\n",
    "                    best_move = move\n",
    "        if beta <= alpha:\n",
    "            return beta\n",
    "    return score"
   ]
  },
  {
   "cell_type": "markdown",
   "metadata": {
    "pycharm": {
     "name": "#%% md\n"
    }
   },
   "source": [
    "Die Funktion `get_opening_data_base_moves` ist eine Hilfsfunktion, die einen Zug aus der Opening Data Base zurückgibt, falls ein Zug für die übergebene Stellung gefunden wird."
   ]
  },
  {
   "cell_type": "code",
   "execution_count": null,
   "metadata": {
    "pycharm": {
     "is_executing": false,
     "name": "#%%\n"
    }
   },
   "outputs": [],
   "source": [
    "def get_opening_data_base_moves(board: chess.Board):\n",
    "    move = None\n",
    "    opening_moves = []\n",
    "    with chess.polyglot.open_reader(\"Performance.bin\") as reader:\n",
    "        for entry in reader.find_all(board):\n",
    "            opening_moves.append(entry)\n",
    "    if opening_moves:\n",
    "        random_entry = random.choice(opening_moves)\n",
    "        move = random_entry.move\n",
    "        print(move)\n",
    "    return move"
   ]
  },
  {
   "cell_type": "markdown",
   "metadata": {
    "pycharm": {
     "is_executing": false,
     "name": "#%% md\n"
    }
   },
   "source": [
    "Nachdem alle notwendigen Funktionen für den Schachcomputer implementiert sind, kann nun die Funktion `ai_player` implementiert werden.\n",
    "Sie repräsentiert den Schachcomputer dem Spiel gegenüber.\n",
    "Die Funktion erhält zwei Parameter:\n",
    "\n",
    "- `board` enthält die aktuelle Stellung.\n",
    "- `color` repräsentiert den Spieler, der am Zug ist.\n",
    "\n",
    "Zuerst wird in der verfügbaren Opening Data Base geschaut, ob ein Zug für die übergebene Stellung vorhanden ist.\n",
    "Ist dies der Fall, so wird der Zug zurückgegeben.\n",
    "Andernfalls wird das globale `move_scores` Dictionary zurückgesetzt und die Funktion `iterative_deepening` aufgerufen und deren gewählter Zug zurückgegeben."
   ]
  },
  {
   "cell_type": "code",
   "execution_count": null,
   "metadata": {
    "pycharm": {
     "is_executing": false,
     "name": "#%%\n"
    }
   },
   "outputs": [],
   "source": [
    "def ai_player(board: chess.Board, color: int):\n",
    "    move = get_opening_data_base_moves(board)\n",
    "    \n",
    "    if move:\n",
    "        return move\n",
    "    else:\n",
    "        print(len(move_scores))\n",
    "        print(len(neighbor_boards))\n",
    "        return iterative_deepening(board, 0, color)"
   ]
  },
  {
   "cell_type": "markdown",
   "metadata": {
    "pycharm": {
     "name": "#%% md\n"
    }
   },
   "source": [
    "Nachdem der Schachcomputer implementiert ist, wird nun die Schnittstelle für den menschlichen Spieler implementiert.\n",
    "Hierfür wird zuerst eine Hilfsfunktion `get_move` benötigt, die die Nutzereingabe in einen Zug umwandelt, sofern dies möglich ist.\n",
    "Zudem wird in ihr überprüft, ob das Spiel vorzeitig zu beenden ist.\n",
    "Dies ist der Fall, wenn der Nutzer als Zug ein `q` (für engl. *quit*) eingibt.\n",
    "Sie erhält als Parameter den dem Nutzer anzuzeigenen Text für die Zugeingabe."
   ]
  },
  {
   "cell_type": "code",
   "execution_count": null,
   "metadata": {
    "pycharm": {
     "is_executing": false,
     "name": "#%%\n"
    }
   },
   "outputs": [],
   "source": [
    "def get_move(prompt):\n",
    "    uci = input(prompt)\n",
    "    if uci and uci[0] == \"q\":\n",
    "        raise KeyboardInterrupt()\n",
    "    try:\n",
    "        chess.Move.from_uci(uci)\n",
    "    except:\n",
    "        uci = None\n",
    "    return uci"
   ]
  },
  {
   "cell_type": "markdown",
   "metadata": {
    "pycharm": {
     "name": "#%% md\n"
    }
   },
   "source": [
    "Die Funktion `human_player` repräsentiert den menschlichen Spieler und koordiniert die Züge des Spielers.\n",
    "Dafür wird zuerst die aktuelle Stellung mittels der IPython-Funktion `display` angezeigt.\n",
    "Anschließend werden dem menschlichen Spieler alle zulässigen Züge für die aktuelle Stellung angezeigt und er wird aufgefordert, seinen Zug zu tätigen.\n",
    "Diese Aufforderung geschieht solange, bis der Nutzer einen gültigen Zug eingegeben hat oder aber das Abbruchkriterium `q`."
   ]
  },
  {
   "cell_type": "code",
   "execution_count": null,
   "metadata": {
    "pycharm": {
     "is_executing": false,
     "name": "#%%\n"
    }
   },
   "outputs": [],
   "source": [
    "def human_player(board):\n",
    "    display(board)\n",
    "    legal_uci_moves = [move.uci() for move in board.legal_moves]\n",
    "    print(f\"Legal moves: {(', '.join(sorted(legal_uci_moves)))}\")\n",
    "    uci = get_move(f\"{who(board.turn)}'s move [q to quit]>\")\n",
    "    while uci not in legal_uci_moves:\n",
    "        print(f\"Legal moves: {(', '.join(sorted(legal_uci_moves)))}\")\n",
    "        uci = get_move(f\"{who(board.turn)}'s move [q to quit]>\")\n",
    "    return uci"
   ]
  },
  {
   "cell_type": "markdown",
   "metadata": {
    "pycharm": {
     "name": "#%% md\n"
    }
   },
   "source": [
    "Für die Anzeige werden die Spielernamen benötigt.\n",
    "Hierfür wird eine Hilfsfunktion `who` implementiert, die einen Spieler als Parameter erhält und den zugehörigen Namen als Zeichenkette zurückgibt."
   ]
  },
  {
   "cell_type": "code",
   "execution_count": null,
   "metadata": {
    "pycharm": {
     "is_executing": false,
     "name": "#%%\n"
    }
   },
   "outputs": [],
   "source": [
    "def who(player):\n",
    "    return \"White\" if player == chess.WHITE else \"Black\""
   ]
  },
  {
   "cell_type": "markdown",
   "metadata": {
    "pycharm": {
     "name": "#%% md\n"
    }
   },
   "source": [
    "`play_game` ist die Funktion, die den Spielablauf koordiniert.\n",
    "Der Funktion kann optional ein Parameter `pause` übergeben werden.\n",
    "Dieser legt fest, wie lange die Stellung und der zu ihr geführte Zug angezeigt werde soll, bevor der andere Spieler am Zug ist.\n",
    "Der übergebene Zahlenwert wird als Anzahl an Sekunden interpretiert.\n",
    "Nach der Initialisierung des Schachbretts sind solange beide Spieler abwechseld am Zug, bis das Spiel als beendet angesehen wird oder das Spiel abgebrochen wurde.\n",
    "Anschließend werden je nach Ausgang des Spiels unterschiedliche Ergebnisse angezeigt."
   ]
  },
  {
   "cell_type": "code",
   "execution_count": null,
   "metadata": {
    "pycharm": {
     "is_executing": false,
     "name": "#%%\n"
    }
   },
   "outputs": [],
   "source": [
    "def play_game(pause=1):\n",
    "    board = chess.Board()\n",
    "    \n",
    "    try:\n",
    "        while not board.is_game_over(claim_draw=True):\n",
    "            if board.turn == chess.WHITE:\n",
    "                #move = board.parse_uci(human_player(board))\n",
    "                move = ai_player(board, chess.WHITE)\n",
    "            else:\n",
    "                move = ai_player(board, chess.BLACK)\n",
    "                \n",
    "            name = who(board.turn)\n",
    "            board.push(move)\n",
    "            html = \"<br/>%s </b>\"%(board._repr_svg_())\n",
    "            clear_output(wait=True)\n",
    "            display(HTML(html))\n",
    "            time.sleep(pause)\n",
    "    except KeyboardInterrupt:\n",
    "        msg = \"Game interrupted\"\n",
    "        return None, msg, board\n",
    "    \n",
    "    result = None\n",
    "    if board.is_checkmate():\n",
    "        msg = \"checkmate: \" + who(not board.turn) + \" wins!\"\n",
    "        result = not board.turn\n",
    "    elif board.is_stalemate():\n",
    "        msg = \"draw: stalemate\"\n",
    "    elif board.is_fivefold_repetition():\n",
    "        msg = \"draw: fivefold repetition\"\n",
    "    elif board.is_insufficient_material():\n",
    "        msg = \"draw: insufficient material\"\n",
    "    elif board.can_claim_draw():\n",
    "        msg = \"draw: claim\"\n",
    "    \n",
    "    print(msg)\n",
    "    return result, msg, board"
   ]
  },
  {
   "cell_type": "code",
   "execution_count": null,
   "metadata": {
    "pycharm": {
     "is_executing": false,
     "name": "#%%\n"
    },
    "scrolled": false
   },
   "outputs": [],
   "source": [
    "play_game()"
   ]
  }
 ],
 "metadata": {
  "kernelspec": {
   "display_name": "Python 3",
   "language": "python",
   "name": "python3"
  },
  "language_info": {
   "codemirror_mode": {
    "name": "ipython",
    "version": 3
   },
   "file_extension": ".py",
   "mimetype": "text/x-python",
   "name": "python",
   "nbconvert_exporter": "python",
   "pygments_lexer": "ipython3",
   "version": "3.8.2"
  },
  "pycharm": {
   "stem_cell": {
    "cell_type": "raw",
    "metadata": {
     "collapsed": false
    },
    "source": []
   }
  }
 },
 "nbformat": 4,
 "nbformat_minor": 1
}

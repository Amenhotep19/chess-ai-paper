{
 "cells": [
  {
   "cell_type": "markdown",
   "metadata": {},
   "source": [
    "Zuerst werden alle notwendigen Pakete und Module importiert.\n",
    "Dabei wird neben den Modulen der Standardbibliothek (`random`, `sys`, `time` und `uuid`) und den Datenstrukturen `defaultdict` und `OrderedDict` aus dem `collections` Modul noch das Paket *Python-Chess* (`chess`) benötigt, welches bereits installiert wurde.\n",
    "Zudem werden für die Anzeige einige Funktionen aus IPython benötigt, die durch die Installation und Verwendung von Jupyter Notebooks bereitgestellt werden."
   ]
  },
  {
   "cell_type": "code",
   "execution_count": null,
   "metadata": {
    "pycharm": {
     "is_executing": false
    }
   },
   "outputs": [],
   "source": [
    "import random\n",
    "import sys\n",
    "import time\n",
    "import uuid\n",
    "\n",
    "import chess\n",
    "import chess.engine\n",
    "import chess.polyglot\n",
    "import chess.svg\n",
    "\n",
    "from collections import defaultdict\n",
    "from collections import OrderedDict\n",
    "\n",
    "from IPython.display import display, HTML, clear_output"
   ]
  },
  {
   "cell_type": "markdown",
   "metadata": {
    "pycharm": {
     "name": "#%% md\n"
    }
   },
   "source": [
    "Zunächst werden globale Konstanten definiert.\n",
    "\n",
    "- `QUIESCENCE_SEARCH_DEPTH` ist die maximale Suchtiefe der Ruhesuche.\n",
    "- `TABLE_SIZE` is die maximale größe der Transpositionstabellen.\n",
    "- `TIMEOUT_SECONDS` wird verwendet, um die Zeit des Schachcomputers zur Berechnung seines nächsten Zuges festzulegen."
   ]
  },
  {
   "cell_type": "code",
   "execution_count": null,
   "metadata": {
    "pycharm": {
     "is_executing": false,
     "name": "#%%\n"
    }
   },
   "outputs": [],
   "source": [
    "QUIESCENCE_SEARCH_DEPTH: int = 20\n",
    "TABLE_SIZE: int = 1.84e19\n",
    "TIMEOUT_SECONDS: int = 30"
   ]
  },
  {
   "cell_type": "markdown",
   "metadata": {
    "pycharm": {
     "name": "#%% md\n"
    }
   },
   "source": [
    "Im folgenden Schritt werden einige globale Variablen definiert.\n",
    "Dieser Schritt ist notwendig, um die Funktionsköpfe möglichst nah am Pseudocode aus dem Theorieteil und der Literatur zu halten.\n",
    "\n",
    "- Die Variable `best_move` enthält den besten Zug für die aktuelle Iteration der `iterative_deepening`-Funktion.\n",
    "- Demgegenüber speichert die Variable `global_best_move` den besten Zug aus allen Iterationen der iterativen Tiefensuche und somit den Zug, der vom Schachcomputer am Ende seines Zuges ausgeführt wird.\n",
    "- `current_depth` speichert die aktuelle Tiefe für das Iterative Deepening.\n",
    "- `endgame` ist eine Flag, welche auf True gesetzt wird, sobald sich das Spiel im Endspiel befindet.\n",
    "- `is_timeout` ist genau dann wahr, wenn die Zeit des Schachcomputers abgelaufen ist.\n",
    "- Bei `move_scores` handelt es sich um ein Dictionary, dass den Score für jeden bereits besuchten Zug im Iterative Deepening Verfahren speichert.\n",
    "Dabei handelt es sich speziell um ein verschachteltes Dictionary.\n",
    "Die Schlüssel auf der obersten Ebene bilden die Stellungen in \\ac{FEN}.\n",
    "Der dazugehörige Wert ist wiederum ein Dictionary mit den Zügen als Schlüssel und dem dazugehörigen Score als Wert.\n",
    "- `piece_zobrist_values` ist eine Liste von Listen, wobei die inneren Listen jeweils ein Feld repräsentieren und ihrerseits für jede einzelne Figur einen eindeutigen Zobrist Hash beinhalten.\n",
    "- In der Variablen `start_time` wird die Startzeit des Zuges des Schachcomputers abgelegt.\n",
    "- `transposition_table` ist ein LRU Cache mit der maximalen Größe `TABLE_SIZE` und bildet damit die Transpositionstabellen ab.\n",
    "- `zobrist_turn` ist ein Hash, welcher mit dem Zobrist Hash XOR verrechnet wird, falls die ziehende Person wechselt."
   ]
  },
  {
   "cell_type": "code",
   "execution_count": null,
   "metadata": {
    "pycharm": {
     "is_executing": false,
     "name": "#%%\n"
    }
   },
   "outputs": [],
   "source": [
    "best_move = None\n",
    "current_depth = 0\n",
    "endgame = False\n",
    "global_best_move = None\n",
    "is_timeout = False\n",
    "move_scores = defaultdict(dict)\n",
    "piece_zobrist_values = []\n",
    "start_time = 0.0\n",
    "transposition_table = None\n",
    "zobrist_turn = 0"
   ]
  },
  {
   "cell_type": "markdown",
   "metadata": {
    "pycharm": {
     "name": "#%% md\n"
    }
   },
   "source": [
    "Nachdem alle notwendigen globalen Definitionen getätigt worden sind, wird nun die verwendete Bewertungsheuristik umgesetzt.\n",
    "Da sich die Bewertungsfunktion in zwei Teile aufteilt, werden diese getrennt implementiert und am Ende zusammengefügt.\n",
    "Zuerst erfolgt die Umsetzung der Figurenwerte.\n",
    "Hierfür wird ein Dictionary `piece_values` angelegt, dass jeder Figur ihren entsprechenden Wert zuweist."
   ]
  },
  {
   "cell_type": "code",
   "execution_count": null,
   "metadata": {
    "pycharm": {
     "is_executing": false,
     "name": "#%%\n"
    }
   },
   "outputs": [],
   "source": [
    "piece_values = {\n",
    "    chess.BISHOP: 330,\n",
    "    chess.KING: 20_000,\n",
    "    chess.KNIGHT: 320,\n",
    "    chess.PAWN: 100,\n",
    "    chess.QUEEN: 900,\n",
    "    chess.ROOK: 500,\n",
    "}"
   ]
  },
  {
   "cell_type": "markdown",
   "metadata": {},
   "source": [
    "Die Funktion `get_piece_value` gibt den Figurenwert für eine übergebene Figur auf dem Schachbrett zurück.\n",
    "Handelt es sich bei der Figur um eine der Farbe Schwarz, so wird der negierte Werte zurückgegeben, da der Schwarze Spieler der minimierende Spieler ist."
   ]
  },
  {
   "cell_type": "code",
   "execution_count": null,
   "metadata": {
    "pycharm": {
     "is_executing": false,
     "name": "#%%\n"
    }
   },
   "outputs": [],
   "source": [
    "def get_piece_value(piece: chess.Piece) -> int:\n",
    "    factor = -1 if piece.color == chess.BLACK else 1\n",
    "    return factor * piece_values.get(piece.piece_type)"
   ]
  },
  {
   "cell_type": "markdown",
   "metadata": {
    "pycharm": {
     "name": "#%% md\n"
    }
   },
   "source": [
    "Als nächstes werden die figurenspezifischen Positionstabellen implementiert.\n",
    "Dafür wird ein Dictionary `piece_squared_tables` angelegt, das für jede Figur die entsprechende Positionstabelle speichert.\n",
    "Die Tabellen werden dabei als Tupel von Tupeln gespeichert, da die Veränderung der Werte während des Spiels nicht zulässig ist.\n",
    "Die Tabellen sind aus dem Theorieteil übernommen worden, weshalb sie aus Sicht des weißen Spielers zu betrachten sind.\n",
    "Das Feld A1 befindet sich somit unten links, was dem Index `[7][0]` entspricht."
   ]
  },
  {
   "cell_type": "code",
   "execution_count": null,
   "metadata": {
    "pycharm": {
     "is_executing": false,
     "name": "#%%\n"
    }
   },
   "outputs": [],
   "source": [
    "piece_squared_tables = {\n",
    "    chess.BISHOP: (\n",
    "        (-20, -10, -10, -10, -10, -10, -10, -20),\n",
    "        (-10,   0,   0,   0,   0,   0,   0, -10),\n",
    "        (-10,   0,   5,  10,  10,   5,   0, -10),\n",
    "        (-10,   5,   5,  10,  10,   5,   5, -10),\n",
    "        (-10,   0,  10,  10,  10,  10,   0, -10),\n",
    "        (-10,  10,  10,  10,  10,  10,  10, -10),\n",
    "        (-10,   5,   0,   0,   0,   0,   5, -10),\n",
    "        (-20, -10, -10, -10, -10, -10, -10, -20),\n",
    "    ),\n",
    "    chess.KING: (\n",
    "        (-30, -40, -40, -50, -50, -40, -40, -30),\n",
    "        (-30, -40, -40, -50, -50, -40, -40, -30),\n",
    "        (-30, -40, -40, -50, -50, -40, -40, -30),\n",
    "        (-30, -40, -40, -50, -50, -40, -40, -30),\n",
    "        (-20, -30, -30, -40, -40, -30, -30, -20),\n",
    "        (-10, -20, -20, -20, -20, -20, -20, -10),\n",
    "        ( 20,  20,   0,   0,   0,   0,  20,  20),\n",
    "        ( 20,  30,  10,   0,   0,  10,  30,  20),\n",
    "    ),\n",
    "    chess.KNIGHT: (\n",
    "        (-50, -40, -30, -30, -30, -30, -40, -50),\n",
    "        (-40, -20,   0,   0,   0,   0, -20, -40),\n",
    "        (-30,   0,  10,  15,  15,  10,   0, -30),\n",
    "        (-30,   5,  15,  20,  20,  15,   5, -30),\n",
    "        (-30,   0,  15,  20,  20,  15,   0, -30),\n",
    "        (-30,   5,  10,  15,  15,  10,   5, -30),\n",
    "        (-40, -20,   0,   5,   5,   0, -20, -40),\n",
    "        (-50, -40, -30, -30, -30, -30, -40, -50),\n",
    "    ),\n",
    "    chess.PAWN: (\n",
    "        (  0,   0,   0,   0,   0,   0,   0,   0),\n",
    "        ( 50,  50,  50,  50,  50,  50,  50,  50),\n",
    "        ( 10,  10,  20,  30,  30,  20,  10,  10),\n",
    "        (  5,   5,  10,  25,  25,  10,   5,   5),\n",
    "        (  0,   0,   0,  20,  20,   0,   0,   0),\n",
    "        (  5,  -5, -10,   0,   0, -10,  -5,   5),\n",
    "        (  5,  10,  10, -20, -20,  10,  10,   5),\n",
    "        (  0,   0,   0,   0,   0,   0,   0,   0),\n",
    "    ),\n",
    "    chess.QUEEN: (\n",
    "        (-20, -10, -10,  -5,  -5, -10, -10, -20),\n",
    "        (-10,   0,   0,   0,   0,   0,   0, -10),\n",
    "        (-10,   0,   5,   5,   5,   5,   0, -10),\n",
    "        ( -5,   0,   5,   5,   5,   5,   0,  -5),\n",
    "        (  0,   0,   5,   5,   5,   5,   0,  -5),\n",
    "        (-10,   5,   5,   5,   5,   5,   0, -10),\n",
    "        (-10,   0,   5,   0,   0,   0,   0, -10),\n",
    "        (-20, -10, -10,  -5,  -5, -10, -10, -20),\n",
    "    ),\n",
    "    chess.ROOK: (\n",
    "        (  0,   0,   0,   0,   0,   0,   0,   0),\n",
    "        (  5,  10,  10,  10,  10,  10,  10,   5),\n",
    "        ( -5,   0,   0,   0,   0,   0,   0,  -5),\n",
    "        ( -5,   0,   0,   0,   0,   0,   0,  -5),\n",
    "        ( -5,   0,   0,   0,   0,   0,   0,  -5),\n",
    "        ( -5,   0,   0,   0,   0,   0,   0,  -5),\n",
    "        ( -5,   0,   0,   0,   0,   0,   0,  -5),\n",
    "        (  0,   0,   0,   5,   5,   0,   0,   0),\n",
    "    ),\n",
    "}"
   ]
  },
  {
   "cell_type": "markdown",
   "metadata": {},
   "source": [
    "Im Endspiel wird für den König eine andere Tabelle verwendet. Diese ist nachfolgend definiert."
   ]
  },
  {
   "cell_type": "code",
   "execution_count": null,
   "metadata": {
    "pycharm": {
     "is_executing": false,
     "name": "#%%\n"
    }
   },
   "outputs": [],
   "source": [
    "kings_end_game_squared_table = (\n",
    "    (-50, -40, -30, -20, -20, -30, -40, -50),\n",
    "    (-30, -20, -10,   0,   0, -10, -20, -30),\n",
    "    (-30, -10,  20,  30,  30,  20, -10, -30),\n",
    "    (-30, -10,  30,  40,  40,  30, -10, -30),\n",
    "    (-30, -10,  30,  40,  40,  30, -10, -30),\n",
    "    (-30, -10,  20,  30,  30,  20, -10, -30),\n",
    "    (-30, -30,   0,   0,   0,   0, -30, -30),\n",
    "    (-50, -30, -30, -30, -30, -30, -30, -50),\n",
    ")"
   ]
  },
  {
   "cell_type": "markdown",
   "metadata": {},
   "source": [
    "Das Paket Python-Chess weist jeder Positionen einen Ganzzahlwert zu.\n",
    "So erhält das Feld A1 den Zahlenwert 0, das Feld B1 den Wert 1.\n",
    "Diese Zuweisung lässt sich bis zum letzten Feld H8 fortführen, das den Zahlenwert 63 erhält.\n",
    "Um nachfolgend effizient auf die Positionswerte basierend auf dem Zahlenwert des Feldes zugreifen zu können, müssen die Zeilen der Positionstabellen umgekehrt werden, sodass Zeile 1 den Index 0 und die Zeile 8 den Index 7 erhält.\n",
    "Dafür wird im Folgenden über jedes Schlüssel-Wert-Paar des `piece_squared_tables` Dictionary iteriert, die Tabelle in eine Liste konvertiert, diese Liste dann umgekehrt und anschließend in ein Tupel zurück überführt.\n",
    "Analog wird die eine Tabelle, die in der Variablen `kings_end_game_squared_table` abgelegt ist, in eine Liste überführt und deren Elemente in umgekehrter Reihenfolge als Tupel in die Variable zurückgeschrieben."
   ]
  },
  {
   "cell_type": "code",
   "execution_count": null,
   "metadata": {},
   "outputs": [],
   "source": [
    "piece_squared_tables = {key: tuple(reversed(list(value))) \n",
    "                        for key, value in piece_squared_tables.items()}\n",
    "kings_end_game_squared_table = tuple(reversed(list(kings_end_game_squared_table)))"
   ]
  },
  {
   "cell_type": "markdown",
   "metadata": {},
   "source": [
    "Die bisher definierten Positionstabellen sind aus der Sicht des Weißen bzw. maximierenden Spielers definiert.\n",
    "Da der zu entwickelnde Schachcomputer aber beide Farben und damit auch gegen sich selber spielen können soll, müssen noch die Positionstabellen für den minimierenden Spieler generiert werden.\n",
    "Hierzu werden wie beim maximierenden Spieler die Zeilen der Tabellen umgekehrt.\n",
    "Weil sich aber die Tabelle als ganzen um 180° drehen muss, werden zusätzlich alle Spalten, was den Elementen innerhalb der Zeilen entspricht, umgedreht.\n",
    "Das resultierende Dictionary bzw. die resultierende Positionstabelle für den König in der Endphase, werden in den zugehörigen Variablennamen mit dem Präfix `reversed_` abgelegt."
   ]
  },
  {
   "cell_type": "code",
   "execution_count": null,
   "metadata": {},
   "outputs": [],
   "source": [
    "reversed_piece_squared_tables = {key: tuple([\n",
    "                                            piece[::-1]\n",
    "                                            for piece in value][::-1]) \n",
    "                                 for key, value in piece_squared_tables.items()}\n",
    "reversed_kings_end_game_squared_table = tuple([\n",
    "                                        piece[::-1]\n",
    "                                        for piece in kings_end_game_squared_table][::-1])"
   ]
  },
  {
   "cell_type": "markdown",
   "metadata": {},
   "source": [
    "Die Funktion `check_endgame` überprüft ob sich eine Stellung im Endspiel befindet. Dafür bekommt die Funktion eine Stellung (`board`) als Parameter. Anschließend wird über die Felder des Bretts iteriert und alle Figuren bis auf Bauern und Könige gezählt. Sobald der Zähler für die Figuren (`counter`) größer als 4 ist, ist sicher, dass sich das Spiel nicht im Endspiel befindet und es wird `False` zurückgegeben. Sollte der Zähler nach durchlaufen der Schleife immer noch kleiner als 4 sein, so befindet sich das Spiel im Endspiel und es wird `True` zurückgegeben."
   ]
  },
  {
   "cell_type": "code",
   "execution_count": null,
   "metadata": {},
   "outputs": [],
   "source": [
    "def check_endgame(board: chess.Board):\n",
    "    counter = 0\n",
    "    for square in range(64):\n",
    "        piece = board.piece_at(square)\n",
    "        if not piece:\n",
    "            continue\n",
    "        if piece.piece_type is not chess.PAWN and piece.piece_type is not chess.KING:\n",
    "            counter += 1\n",
    "            if counter > 4:\n",
    "                return False\n",
    "    return True"
   ]
  },
  {
   "cell_type": "markdown",
   "metadata": {},
   "source": [
    "Die Funktion `get_piece_quared_tables_value` liefert den Wert der figurenspezifischen Positionstabellen für eine übergebene Figur `piece` auf dem Schachbrett.\n",
    "Der Zeilen- und Spaltenindex in der Tabelle wird basierend auf dem Zahlenwert des Feldes, auf dem die Figur sich befindet (`square`), berechnet.\n",
    "Dabei entspricht der Zeilenindex dem Ergebnis der Ganzzahldivision durch 8 und der Spaltenindex dem Rest aus der Division mit der Zahl 8.\n",
    "Zudem wird ein Parameter `end_game` benötigt, der genau dann wahr ist, wenn sich das Spiel in der Endphase befindet und für den König eine abweichende Positionstabelle verwendet wird.\n",
    "Des Weiteren wird erneut der gefundene Wert negiert, wenn es sich bei der Farbe um Schwarz und somit um den minimierenden Spieler handelt."
   ]
  },
  {
   "cell_type": "code",
   "execution_count": null,
   "metadata": {},
   "outputs": [],
   "source": [
    "def get_piece_squared_tables_value(piece: chess.Piece, square: int, end_game: bool = False) -> int:\n",
    "    factor = -1 if piece.color == chess.BLACK else 1\n",
    "    row = square // 8\n",
    "    column = square % 8\n",
    "    \n",
    "    if end_game and piece.piece_type == chess.KING:\n",
    "        if piece.color == chess.WHITE:\n",
    "            return kings_end_game_squared_table[row][column]\n",
    "        else:\n",
    "            return reversed_kings_end_game_squared_table[row][column]\n",
    "    \n",
    "    if piece.color == chess.WHITE:\n",
    "        piece_squared_table = piece_squared_tables.get(piece.piece_type)\n",
    "    else:\n",
    "        piece_squared_table = reversed_piece_squared_tables.get(piece.piece_type)\n",
    "        \n",
    "    return factor * piece_squared_table[row][column]"
   ]
  },
  {
   "cell_type": "markdown",
   "metadata": {},
   "source": [
    "Die Funktion `simple_eval_heuristic` setzt die einfache Bewertungsheuristik um.\n",
    "Sie erhält als Eingabeparameter die aktuelle Stellung `board` und ob sich das Spiel im Endspiel befindet (`end_game`).\n",
    "Die Funktion schaut sich jedes Feld des Schachbretts an.\n",
    "Befindet sich eine Figur auf dem Feld, so werden der Figurenwert und der Positionswert bestimmt und zum Endergebnis, das in der Variablen `piece_value` gespeichert wird, addiert.\n",
    "Das Ergebnis wird dann zurückgegeben."
   ]
  },
  {
   "cell_type": "code",
   "execution_count": null,
   "metadata": {
    "pycharm": {
     "is_executing": false,
     "name": "#%%\n"
    }
   },
   "outputs": [],
   "source": [
    "def simple_eval_heuristic(board: chess.Board, end_game: bool = False) -> int:\n",
    "    piece_value = 0\n",
    "    for square in range(64):\n",
    "        piece = board.piece_at(square)\n",
    "        if not piece:\n",
    "            continue\n",
    "        piece_value += get_piece_value(piece)\n",
    "        piece_value += get_piece_squared_tables_value(piece, square, end_game)\n",
    "    return piece_value"
   ]
  },
  {
   "cell_type": "markdown",
   "metadata": {},
   "source": [
    "Die beiden Dictionaries `zobrist_values_white`und `zobrist_values_black` werden für die Umsetzung des Zobrist Hashing benötigt."
   ]
  },
  {
   "cell_type": "code",
   "execution_count": null,
   "metadata": {},
   "outputs": [],
   "source": [
    "zobrist_values_white = {\n",
    "    chess.PAWN: 1,\n",
    "    chess.KNIGHT: 2,\n",
    "    chess.BISHOP: 3,\n",
    "    chess.ROOK: 4,\n",
    "    chess.QUEEN: 5,\n",
    "    chess.KING: 6,\n",
    "}\n",
    "zobrist_values_black = {\n",
    "    chess.PAWN: 7,\n",
    "    chess.KNIGHT: 8,\n",
    "    chess.BISHOP: 9,\n",
    "    chess.ROOK: 10,\n",
    "    chess.QUEEN: 11,\n",
    "    chess.KING: 12,\n",
    "}"
   ]
  },
  {
   "cell_type": "markdown",
   "metadata": {},
   "source": [
    "In der Funktion `intit_zobrist_list()` werden die Zobrist-Schlüssel für jede Figur auf jedem der 64 Schachfelder initialisiert.\n",
    "Es wird `uuid` in Kombination mit dem Operatoren `& (1<<64)-1` verwendet, um einzigartige 64 Bit Hashes zu erzeugen.\n",
    "Die erzeugten Hashes werden dann der Reihenfolge aus `zobrist_values_white` und `zobrist_values_black` in die zweidimensionale Liste `piece_zobrist_values` abgespeichert.\n",
    "Anschließend wird die Funktion aufgerufen, um die Liste zu initialisieren."
   ]
  },
  {
   "cell_type": "code",
   "execution_count": null,
   "metadata": {},
   "outputs": [],
   "source": [
    "def init_zobrist_list():\n",
    "    global piece_zobrist_values\n",
    "\n",
    "    zobrist_turn = uuid.uuid4().int & (1 << 64) - 1\n",
    "    for i in range(0, 64):\n",
    "        NO_PIECE = uuid.uuid4().int & (1 << 64) - 1\n",
    "        WHITE_PAWN = uuid.uuid4().int & (1 << 64) - 1\n",
    "        WHITE_KNIGHT = uuid.uuid4().int & (1 << 64) - 1\n",
    "        WHITE_BISHOP = uuid.uuid4().int & (1 << 64) - 1\n",
    "        WHITE_ROOK = uuid.uuid4().int & (1 << 64) - 1\n",
    "        WHITE_QUEEN = uuid.uuid4().int & (1 << 64) - 1\n",
    "        WHITE_KING = uuid.uuid4().int & (1 << 64) - 1\n",
    "        BLACK_PAWN = uuid.uuid4().int & (1 << 64) - 1\n",
    "        BLACK_KNIGHT = uuid.uuid4().int & (1 << 64) - 1\n",
    "        BLACK_BISHOP = uuid.uuid4().int & (1 << 64) - 1\n",
    "        BLACK_ROOK = uuid.uuid4().int & (1 << 64) - 1\n",
    "        BLACK_QUEEN = uuid.uuid4().int & (1 << 64) - 1\n",
    "        BLACK_KING = uuid.uuid4().int & (1 << 64) - 1\n",
    "\n",
    "        piece_zobrist_values.append(\n",
    "            [\n",
    "                NO_PIECE,\n",
    "                WHITE_PAWN,\n",
    "                WHITE_KNIGHT,\n",
    "                WHITE_BISHOP,\n",
    "                WHITE_ROOK,\n",
    "                WHITE_QUEEN,\n",
    "                WHITE_KING,\n",
    "                BLACK_PAWN,\n",
    "                BLACK_KNIGHT,\n",
    "                BLACK_BISHOP,\n",
    "                BLACK_ROOK,\n",
    "                BLACK_QUEEN,\n",
    "                BLACK_KING,\n",
    "            ]\n",
    "        )\n",
    "\n",
    "\n",
    "init_zobrist_list()"
   ]
  },
  {
   "cell_type": "markdown",
   "metadata": {},
   "source": [
    "`zobrist_hash()` wird verwendet, um eine Stellung in einen einzigartigen Zobrist-Schlüssel umzuwandeln.\n",
    "Hierfür wird zunächst die zu überführende Stellung als Parameter (`board`) übergeben.\n",
    "Anschließend wird ein leerer Hash erstellt (`zobrist_hash = 0`), welcher dann den Figuren und Feldern der Stellung entsprechend mit den spezifischen Zobrist-Schlüsseln aus der Liste `piece_zobrist_values` XOR verrechnet wird.\n",
    "Um auf die richtigen Indizes der Figurtypen zuzugreifen, werden die Dictionaries `zobrist_value_white` und `zobrist_value_black` verwendet."
   ]
  },
  {
   "cell_type": "code",
   "execution_count": null,
   "metadata": {},
   "outputs": [],
   "source": [
    "def zobrist_hash(board: chess.Board) -> int:\n",
    "    global zobrist_turn\n",
    "\n",
    "    zobrist_hash = 0\n",
    "    if board.turn == chess.WHITE:\n",
    "        zobrist_hash = zobrist_hash ^ zobrist_turn\n",
    "\n",
    "    for square in range(64):\n",
    "        piece = board.piece_at(square)\n",
    "        if not piece:\n",
    "            index = 0\n",
    "        elif piece.color == chess.WHITE:\n",
    "            index = zobrist_values_white.get(piece.piece_type)\n",
    "        elif piece.color == chess.BLACK:\n",
    "            index = zobrist_values_black.get(piece.piece_type)\n",
    "        zobrist_hash = zobrist_hash ^ piece_zobrist_values[square][index]\n",
    "\n",
    "    return zobrist_hash"
   ]
  },
  {
   "cell_type": "markdown",
   "metadata": {},
   "source": [
    "`zobrist_move()` ändert einen bestehenden Zobrist-Schlüssel (`zobrist_hash`), der die Stellung (`board`) repräsentiert, nachdem ein Zug (`move`) ausgeführt wurde.\n",
    "\n",
    "- Als erstes wird bestimmt, welcher Spieler am Zug ist, weil diese Information benötigt wird, um zwischen den Dictionaries `zobrist_value_white` und `zobrist_value_black` unterscheiden zu können.\n",
    "- Danach werden die beiden Felder bestimmt, von wo nach wo die ziehende Figur sich bewegt.\n",
    "- Anschließend werden die Figurtypen auf den entsprechenden Feldern bestimmt.\n",
    "Falls sich keine Figur auf dem Feld befindet auf das die ziehende Figur hinzieht, so wird `NO_PIECE` verwendet, welcher sich im Array `piece_zobrist_values`  immer auf den Positionen `[X][0]` befindet (X in range(0, 64)).\n",
    "- Um den Zug auszuführen wird die Folgende Reihenfolge von XOR Operationen durchgeführt: Zuerst wird der Figurtyp auf dem Startfeld mit sich selbst verrechnet. Anschließend wird `NO_PIECE` auf diesem Feld verrechnet, weil das Feld nachdem die ziehende Figur wegzieht, von keiner Figur besetzt ist. Danach wird der Figurentyp auf dem Zielfeld mit sich selbst verrechnet. Zuletzt wird der ziehende Figurtyp auf dem Zielfeld verrechnet.\n",
    "- Am Schluss wird noch die Flag `zobrist_turn` verrechnet, weil nach jedem Zug der ziehende Spieler wechselt. \n"
   ]
  },
  {
   "cell_type": "code",
   "execution_count": null,
   "metadata": {},
   "outputs": [],
   "source": [
    "def zobrist_move(board,move,zobrist_hash):\n",
    "    white_to_move = board.turn\n",
    "    from_square = move.from_square\n",
    "    to_square = move.to_square\n",
    "    moving_piece = board.piece_at(from_square)\n",
    "    captured_piece = board.piece_at(to_square)\n",
    "\n",
    "    if white_to_move:\n",
    "        zobrist_hash = zobrist_hash ^ piece_zobrist_values[from_square][zobrist_values_white.get(moving_piece.piece_type)]\n",
    "        zobrist_hash = zobrist_hash ^ piece_zobrist_values[from_square][0]\n",
    "        if not captured_piece:\n",
    "            zobrist_hash = zobrist_hash ^ piece_zobrist_values[to_square][0]\n",
    "            zobrist_hash = zobrist_hash ^ piece_zobrist_values[to_square][zobrist_values_white.get(moving_piece.piece_type)]\n",
    "        else:\n",
    "            zobrist_hash = zobrist_hash ^ piece_zobrist_values[to_square][zobrist_values_black.get(captured_piece.piece_type)]\n",
    "            zobrist_hash = zobrist_hash ^ piece_zobrist_values[to_square][zobrist_values_white.get(moving_piece.piece_type)]\n",
    "    else:\n",
    "        zobrist_hash = zobrist_hash ^ piece_zobrist_values[from_square][zobrist_values_black.get(moving_piece.piece_type)]\n",
    "        zobrist_hash = zobrist_hash ^ piece_zobrist_values[from_square][0]\n",
    "        if not captured_piece:\n",
    "            zobrist_hash = zobrist_hash ^ piece_zobrist_values[to_square][0]\n",
    "            zobrist_hash = zobrist_hash ^ piece_zobrist_values[to_square][zobrist_values_black.get(moving_piece.piece_type)]\n",
    "        else:\n",
    "            zobrist_hash = zobrist_hash ^ piece_zobrist_values[to_square][zobrist_values_white.get(captured_piece.piece_type)]\n",
    "            zobrist_hash = zobrist_hash ^ piece_zobrist_values[to_square][zobrist_values_black.get(moving_piece.piece_type)]\n",
    "            \n",
    "    zobrist_hash = zobrist_hash^zobrist_turn\n",
    "    return zobrist_hash"
   ]
  },
  {
   "cell_type": "markdown",
   "metadata": {},
   "source": [
    "Für die spätere Implementierung der Transpositionstabellen wird ein LRU Cache implementiert repräsentiert durch die Klasse `LRUCache`.\n",
    "Eine detaillierte Beschreibung der Implementierung ist in Kapitel~\\ref{ch:transpositional-tables} zu finden."
   ]
  },
  {
   "cell_type": "code",
   "execution_count": null,
   "metadata": {},
   "outputs": [],
   "source": [
    "class LRUCache:\n",
    "    def __init__(self, size):\n",
    "        self.od = OrderedDict()\n",
    "        self.size = size\n",
    "\n",
    "    def get(self, key, default=None):\n",
    "        try:\n",
    "            self.od.move_to_end(key)\n",
    "        except KeyError:\n",
    "            return default\n",
    "        return self.od[key]\n",
    "\n",
    "    def __contains__(self, item):\n",
    "        return item in self.od\n",
    "\n",
    "    def __len__(self):\n",
    "        return len(self.od)\n",
    "\n",
    "    def __getitem__(self, key):\n",
    "        self.od.move_to_end(key)\n",
    "        return self.od[key]\n",
    "\n",
    "    def __setitem__(self, key, value):\n",
    "        try:\n",
    "            del self.od[key]\n",
    "        except KeyError:\n",
    "            if len(self.od) == self.size:\n",
    "                self.od.popitem(last=False)\n",
    "        self.od[key] = value\n",
    "\n",
    "\n",
    "transposition_table = LRUCache(TABLE_SIZE)"
   ]
  },
  {
   "cell_type": "markdown",
   "metadata": {},
   "source": [
    "Die Funktion `quiescence_search_maximize` implementiert die Ruhesuche aus der Sicht des maximierenden Spielers. Sie ist daher weitesgehend identisch mit der Funktion maximize und verfügt auch über die selbe Parameterliste. Ist die maximale Tiefe für die Ruhesuche (`QUIESCENCE_SEARCH_DEPTH`) erreicht, so wird die aktuelle Stellung mittels der Bewertungsheuristik evaluiert und das Ergebnis zurückgeliefert.\n",
    "Bei den Zügen werden nur die, die als favorisierend betrachtet werden (`favorable_moves`), berücksichtigt."
   ]
  },
  {
   "cell_type": "code",
   "execution_count": null,
   "metadata": {},
   "outputs": [],
   "source": [
    "def quiescence_search_maximize(board: chess.Board, alpha, beta, currentDepth: int):\n",
    "    global best_move\n",
    "    global global_best_move\n",
    "    global endgame\n",
    "\n",
    "    if currentDepth == QUIESCENCE_SEARCH_DEPTH:\n",
    "        return simple_eval_heuristic(board, endgame)\n",
    "\n",
    "    favorable_moves = []\n",
    "    moves = board.legal_moves\n",
    "\n",
    "    for move in moves:\n",
    "        if is_favorable_move(board, move):\n",
    "            favorable_moves.append(move)\n",
    "\n",
    "    if favorable_moves == []:\n",
    "        return simple_eval_heuristic(board)\n",
    "\n",
    "    score = alpha\n",
    "    for move in favorable_moves:\n",
    "        board.push(move)\n",
    "        move_score = quiescence_search_minimize(board, score, beta, currentDepth + 1)\n",
    "        board.pop()\n",
    "        if move_score > score:\n",
    "            score = move_score\n",
    "            if score >= beta:\n",
    "                break\n",
    "\n",
    "    return score"
   ]
  },
  {
   "cell_type": "markdown",
   "metadata": {},
   "source": [
    "Analog wird die Funktion für die minimierende Ruhesuche `quiescence_search_min` implementiert."
   ]
  },
  {
   "cell_type": "code",
   "execution_count": null,
   "metadata": {},
   "outputs": [],
   "source": [
    "def quiescence_search_minimize(board: chess.Board, alpha, beta, currentDepth: int):\n",
    "    global best_move\n",
    "    global global_best_move\n",
    "    global endgame\n",
    "\n",
    "    if currentDepth == QUIESCENCE_SEARCH_DEPTH:\n",
    "        return simple_eval_heuristic(board, endgame)\n",
    "\n",
    "    moves = board.legal_moves\n",
    "    favorable_moves = []\n",
    "\n",
    "    for move in moves:\n",
    "        if is_favorable_move(board, move):\n",
    "            favorable_moves.append(move)\n",
    "\n",
    "    if favorable_moves == []:\n",
    "        return simple_eval_heuristic(board)\n",
    "\n",
    "    score = beta\n",
    "    for move in favorable_moves:\n",
    "        board.push(move)\n",
    "        move_score = quiescence_search_maximize(board, alpha, score, currentDepth + 1)\n",
    "        board.pop()\n",
    "        if move_score < score:\n",
    "            score = move_score\n",
    "            if score <= alpha:\n",
    "                break\n",
    "\n",
    "    return score"
   ]
  },
  {
   "cell_type": "markdown",
   "metadata": {},
   "source": [
    "Die Funktion `is_favorable_move` überprüft, ob ein Zug zu einer, wie im Kapitel Ruhesuche beschrieben, vorteilhaften Stellung führt oder nicht. \n",
    "Als Argumente bekommt die Funktion eine Stellung (`board`) und einen Zug (`move`) übergeben.\n",
    "Nun wird überprüft, ob der Zug vorteilhaft ist.\n",
    "Der Zug ist dann vorteilhaft, wenn der Zug ein Schlagzug ist und wenn die schlagende Figur weniger Wert ist als die Figur, welche geschlagen wird oder wenn das Feld von der schlagenden Seite feldbeherrschungstechnisch majorisiert wird.\n",
    "En-Passant Züge werden zuvor schon herausgefiltert, weil in diesem Fall ein Bauer geschlagen wird, welcher sich aktuell auf einem anderen Feld befindet, als das Zielfeld des Schlagzugs. "
   ]
  },
  {
   "cell_type": "code",
   "execution_count": null,
   "metadata": {},
   "outputs": [],
   "source": [
    "def is_favorable_move(board: chess.Board, move: chess.Move) -> bool:\n",
    "    if move.promotion is not None:\n",
    "        return True\n",
    "    if board.is_capture(move) and not board.is_en_passant(move):\n",
    "        if piece_values.get(board.piece_type_at(move.from_square)) < piece_values.get(\n",
    "            board.piece_type_at(move.to_square)\n",
    "        ) or len(board.attackers(board.turn, move.to_square)) > len(\n",
    "            board.attackers(not board.turn, move.to_square)\n",
    "        ):\n",
    "            return True\n",
    "    return False"
   ]
  },
  {
   "cell_type": "markdown",
   "metadata": {
    "pycharm": {
     "name": "#%% md\n"
    }
   },
   "source": [
    "Nachdem die verwendete Bewertungsheuristik implementiert ist, kann nun das Alpha-Beta Pruning zusammen mit dem Iterative Deepening umgesetzt werden.\n",
    "Hierfür wird eine Funktion `iterative_deepening` implementiert, die den Ablauf dieses Prozesses koordiniert.\n",
    "Sie erhält folgende drei Parameter:\n",
    "\n",
    "- Der Parameter `board` enthält die aktuelle Stellung.\n",
    "- Die initiale Tiefe, bei der gesucht wird, wird mit dem Parameter `depth` übergeben.\n",
    "- `color` repräsentiert den Spieler, der aktuell am Zug ist.\n",
    "\n",
    "Als erstes wird überprüft, ob sich das Spiel aktuell im Endspiel befindet und falls ja, wird die globale Flag `endgame` auf `True` gesetzt.\n",
    "Alle anderen benötigten Informationen werden global abgelegt.\n",
    "Zu Beginn des Iterative Deepening wird geprüft, ob der Spieler nur einen erlaubten Zug machen kann.\n",
    "Ist dies der Fall, so wird er sofort zurückgegeben und keine weiteren Berechnungen sind von Nöten.\n",
    "Ist mehr als ein zulässiger Zug möglich, so wird die aktuelle Systemzeit global gespeichert und die Variable `d` mit 0 initialisiert.\n",
    "`d` repräsentiert hierbei die Tiefe, die zur initialen Tiefe `depth` hinzugefügt wird.\n",
    "In einer Endlosschleife wird sukzessiv die Suchtiefe erhöht und `minimize` bzw. `maximize` aufgerufen.\n",
    "Sowohl `alpha` als auch `beta` werden mit einem sehr hohen bzw. sehr niedrigen Zahlenwert initialisiert.\n",
    "Bei jedem Schleifendurchlauf wird dabei dem globale besten Zug (`global_best_move`) der Zug aus der Variablen `best_move` zugewiesen.\n",
    "Falls der Return Wert `sys.maxsize` oder `-sys.maxsize` entspricht, bedeutet dies, dass ein Matt von einem der beiden Spieler erzwungen werden kann und deshalb wird die Suche hier abgebrochen.\n",
    "Des Weiteren wird überprüft, ob die Zeit des Schachcomputers abgelaufen ist.\n",
    "Ist dies der Fall, wird der globale beste Zug zurückgegeben."
   ]
  },
  {
   "cell_type": "code",
   "execution_count": null,
   "metadata": {
    "pycharm": {
     "is_executing": false,
     "name": "#%%\n"
    }
   },
   "outputs": [],
   "source": [
    "def iterative_deepening(board: chess.Board, depth: int, color: int):\n",
    "    global best_move\n",
    "    global current_depth\n",
    "    global global_best_move\n",
    "    global is_timeout\n",
    "    global start_time\n",
    "    global endgame\n",
    "\n",
    "    if not endgame and check_endgame(board):\n",
    "        endgame = True\n",
    "\n",
    "    zobrist = zobrist_hash(board)\n",
    "    if board.legal_moves == 1:\n",
    "        return board.legal_moves[0]\n",
    "\n",
    "    is_timeout = False\n",
    "    start_time = time.time()\n",
    "    d = 0\n",
    "    current_score = 0\n",
    "\n",
    "    while True:\n",
    "        if d > 1:\n",
    "            global_best_move = best_move\n",
    "            print(f\"Completed search with depth {current_depth}. Best move so far: {global_best_move} (Score: {current_score})\")\n",
    "        if current_score == sys.maxsize or current_score == -sys.maxsize:\n",
    "            return global_best_move\n",
    "        current_depth = depth + d\n",
    "        if color == chess.BLACK:\n",
    "            current_score = minimize(board, current_depth, -sys.maxsize, sys.maxsize, color, zobrist)\n",
    "        else:\n",
    "            current_score = maximize(board, current_depth, -sys.maxsize, sys.maxsize, color, zobrist)\n",
    "        d += 1\n",
    "        if is_timeout:\n",
    "            return global_best_move"
   ]
  },
  {
   "cell_type": "markdown",
   "metadata": {
    "pycharm": {
     "name": "#%% md\n"
    }
   },
   "source": [
    "Die Implementierung der Funktion `maximize` orientiert sich stark am Pseudocode aus dem Theorieteil.\n",
    "Die Funktion erhält fünf Parameter.\n",
    "\n",
    "- `board` enthält die aktuelle Stellung.\n",
    "- `depth` repräsentiert die Tiefe, mit der `maximize` aufgerufen wird.\n",
    "- `alpha` repräsentiert die Variable Alpha des Alpha-Beta Prunings.\n",
    "- `beta` repräsentiert die Variable Beta des Alpha-Beta Prunings.\n",
    "- `zobrist` enthält den Zobrist Hash der aktuellen Stellung\n",
    "\n",
    "Zu Beginn wird geprüft, ob die Zeit des Schachcomputers bereits abgelaufen ist.\n",
    "Ist dies der Fall, so wird die Variable `is_timeout` auf `True` gesetzt und `alpha` zurückgegeben.\n",
    "Anschließend wird geprüft ob sich die Stellung in einem Schachmatt `board.is_checkmate()` oder einem Patt `board.is_stalemate` befindet, oder ob sich ein Unentschieden über die dreifache Wiederholung einer Stellung erzwingen lässt. Falls einer dieser drei Fälle zutrifft, wird sofort der entsprechende Score (`sys.maxsiz` bzw. `-sys.maxsize` und `0`) zurückgegeben\n",
    "Danach wird überprüft, ob  für den `zobrist_hash` der aktuellen Stellung und der aktuellen Tiefe `depth` ein Eintrag in der Transpositionstabelle `transposition_table` vorhanden ist. Ist dies der Fall, so werden anschließend die aktuellen Alpha und Beta Werte mit den Alpha und Beta Werten aus der Transpositionstabelle verglichen.\n",
    "Falls sich das aktuelle Alpha-Beta Intervall innerhalb des Alpha-Beta Intervalls der Transpositionstabelle befindet, wird einfach der `score` der Transpositionstabelle als return Wert wiedergegeben. Sonst wird das Minimum von beiden Alpha-Werten und das Maximum von beiden Beta Werten bestimmt und diese als aktuelle Alpha und Beta Werte übernommen.\n",
    "Anschließend wird überprüft, ob es sich bei der aktuellen Suchtiefe um eine Tiefe kleiner als 1 handelt.\n",
    "Ist dies der Fall, wird die aktuelle Stellung mittels der Ruhesuche evaluiert und der entsprechende Wert zurückgeliefert.\n",
    "Weil noch kein Zug durchgeführt wurde, wird die Ruhesuche für `maximize` aufgerufen (`quiescnece_search_maximize`).\n",
    "Dabei ist zu beachten, dass die Suchtiefe um eins erhöht wird.\n",
    "Ist die aktuelle Suchtiefe nicht kleiner als eins, so wird als nächstes der Variablen `score` der Wert für `alpha` zugewiesen.\n",
    "Anschließend werden alle zulässigen Züge nach ihren Scores sortiert, sodass aussichtsreichere Züge zuerst evaluiert werden.\n",
    "Ist kein Score für einen zulässigen Zug vorhanden, so werden die Züge mit einem neutralen Score von 0 belegt.\n",
    "Nachfolgend wird über alle zulässigen Züge iteriert und jeweils die Zobrist Hashes für die neu entstehenden Stellungen mit `zobrist_move` berechnet und den folgenden Aufrufen der `minimize` Funktion als Parameter übergeben.\n",
    "Die Variablen `score` und `alpha` werden basierend auf dem Wert von `move_score` aktualisiert, wie dies im Pseudocode aus dem Theorieteil der Fall ist.\n",
    "Zusätzlich wird `best_move` der aktuelle Zug zugewiesen, wenn folgende zwei Bedingungen erfüllt sind:\n",
    "\n",
    "1. Der aktuelle Score ist größer als Alpha, wodurch die Variable `alpha` aktualisiert wird und ein möglicher neuer bester Zug gefunden wurde.\n",
    "1. Die aktuelle Suchtiefe entspricht der Suchtiefe, mit der die Funktion `iterative_deepening` die aktuelle Iteration anstieß.\n",
    "\n",
    "Bevor letztlich der Score der aktuellen Stellung zurückgeliefert wird, wird Stellung und Score mit den aktuellen Alpha und Beta Werten in der Transpositionstabelle abgespeichert. \n",
    "Während des Schleifendurchlaufs wird der `move_score` für einen Zug im Dictionary `move_scores` abgelegt.\n",
    "Dabei wird er der Stellung zugewiesen, die als Ausgangsstellung für den Zug dient."
   ]
  },
  {
   "cell_type": "code",
   "execution_count": null,
   "metadata": {
    "pycharm": {
     "is_executing": false,
     "name": "#%%\n"
    }
   },
   "outputs": [],
   "source": [
    "def maximize(board: chess.Board, depth: int, alpha: int, beta: int, color: int, zobrist: int) -> int:\n",
    "    global is_timeout\n",
    "    global start_time\n",
    "    global best_move\n",
    "    global global_best_move\n",
    "\n",
    "    if time.time() - start_time > TIMEOUT_SECONDS:\n",
    "        is_timeout = True\n",
    "        return alpha\n",
    "\n",
    "    if board.is_checkmate():\n",
    "        return -sys.maxsize\n",
    "    if board.is_stalemate():\n",
    "        return 0\n",
    "    if board.can_claim_threefold_repetition():\n",
    "        return 0\n",
    "\n",
    "    if (zobrist, depth) in transposition_table:\n",
    "        score, a, b = transposition_table[(zobrist, depth)]\n",
    "        if a <= alpha and beta <= b:\n",
    "            return score\n",
    "        else:\n",
    "            alpha = min(alpha, a)\n",
    "            beta = max(beta, b)\n",
    "\n",
    "    if depth < 1:\n",
    "        return quiescence_search_maximize(board, alpha, beta, 1)\n",
    "\n",
    "    score = alpha\n",
    "\n",
    "    board_scores = move_scores.get(board.fen(), dict())\n",
    "    moves = sorted(\n",
    "        board.legal_moves, key=lambda move: -board_scores.get(move, 0),\n",
    "    )\n",
    "\n",
    "    for move in moves:\n",
    "        new_zobrist = zobrist_move(board, move, zobrist)\n",
    "        board.push(move)\n",
    "        move_score = minimize(board, depth - 1, score, beta, color, new_zobrist)\n",
    "        move_scores[board.fen()][move] = move_score\n",
    "        board.pop()\n",
    "\n",
    "        if move_score > score:\n",
    "            score = move_score\n",
    "            if depth == current_depth:\n",
    "                best_move = move\n",
    "            if score >= beta:\n",
    "                break\n",
    "\n",
    "    transposition_table[(zobrist, depth)] = score, alpha, beta\n",
    "    return score"
   ]
  },
  {
   "cell_type": "markdown",
   "metadata": {
    "pycharm": {
     "name": "#%% md\n"
    }
   },
   "source": [
    "Die Funktion `minimize` ist zu großen Teilen mit der Funktion `maximize` identisch, wie dies auch im Pseudocode aus dem Theorieteil der Fall ist.\n",
    "Die Unterschiede zur `maximize`-Implementierung sind:\n",
    "\n",
    "- Die Liste der zulässigen Züge ist aufwärts und nicht abwärts sortiert.\n",
    "Somit fängt der Schachcomputer mit dem Zug an, der den geringsten Score besitzt.\n",
    "Zudem ist der für den Spieler schlechteste Zug nun `sys.maxsize`.\n",
    "- Es wird die Variable `beta` aktualisiert und nicht die Variable `alpha`.\n",
    "Diese wird zudem aktualisiert, wenn der aktuelle `score` niedriger und somit besser ist."
   ]
  },
  {
   "cell_type": "code",
   "execution_count": null,
   "metadata": {
    "pycharm": {
     "is_executing": false,
     "name": "#%%\n"
    }
   },
   "outputs": [],
   "source": [
    "def minimize(board: chess.Board, depth: int, alpha: int, beta: int, color: int, zobrist) -> int:\n",
    "    global best_move\n",
    "    global global_best_move\n",
    "    global is_timeout\n",
    "    global start_time\n",
    "    \n",
    "    if time.time() - start_time > TIMEOUT_SECONDS:\n",
    "        is_timeout = True\n",
    "        return beta\n",
    "    \n",
    "    if board.is_checkmate():\n",
    "        return sys.maxsize\n",
    "    if board.is_stalemate():\n",
    "        return 0\n",
    "    if board.can_claim_threefold_repetition():\n",
    "        return 0\n",
    "    \n",
    "    if (zobrist, depth) in transposition_table:\n",
    "        score, a, b = transposition_table[(zobrist, depth)]\n",
    "        if a <= alpha and beta <= b:\n",
    "            return score\n",
    "        else:\n",
    "            alpha = min(alpha, a)\n",
    "            beta = max(beta , b)\n",
    "    \n",
    "    if depth < 1:\n",
    "        return quiescence_search_minimize(board, alpha, beta, 1)\n",
    "    \n",
    "    score = beta\n",
    "    \n",
    "    board_scores = move_scores.get(board.fen(), dict())\n",
    "    moves = sorted(\n",
    "        board.legal_moves, key=lambda move: board_scores.get(move, 0),\n",
    "    )\n",
    "\n",
    "    for move in moves:\n",
    "        new_zobrist = zobrist_move(board, move, zobrist)\n",
    "        board.push(move)\n",
    "        move_score = maximize(board, depth - 1, alpha, score, color, new_zobrist)\n",
    "        move_scores[board.fen()][move] = move_score\n",
    "        board.pop()\n",
    "\n",
    "        if move_score < score:\n",
    "            score = move_score\n",
    "            if depth==current_depth:\n",
    "                best_move = move\n",
    "            if score <= alpha:\n",
    "                break\n",
    "\n",
    "    transposition_table[(zobrist, depth)] = score, alpha, beta\n",
    "    return score"
   ]
  },
  {
   "cell_type": "markdown",
   "metadata": {
    "pycharm": {
     "name": "#%% md\n"
    }
   },
   "source": [
    "Die Funktion `get_opening_data_base_moves` ist eine Hilfsfunktion, die einen Zug aus der Opening Data Base für die aktuelle Stellung (`board`) zurückgibt, falls ein Zug für die übergebene Stellung gefunden wird."
   ]
  },
  {
   "cell_type": "code",
   "execution_count": null,
   "metadata": {
    "pycharm": {
     "is_executing": false,
     "name": "#%%\n"
    }
   },
   "outputs": [],
   "source": [
    "def get_opening_data_base_moves(board: chess.Board):\n",
    "    move = None\n",
    "    opening_moves = []\n",
    "\n",
    "    with chess.polyglot.open_reader(\"Performance.bin\") as reader:\n",
    "        for entry in reader.find_all(board):\n",
    "            opening_moves.append(entry)\n",
    "\n",
    "    if opening_moves:\n",
    "        random_entry = random.choice(opening_moves)\n",
    "        move = random_entry.move\n",
    "        print(move)\n",
    "\n",
    "    return move"
   ]
  },
  {
   "cell_type": "markdown",
   "metadata": {
    "pycharm": {
     "name": "#%% md\n"
    }
   },
   "source": [
    "Für die Anzeige werden die Spielernamen benötigt.\n",
    "Hierfür wird eine Hilfsfunktion `who` implementiert, die einen Spieler als Parameter erhält und den zugehörigen Namen als Zeichenkette zurückgibt."
   ]
  },
  {
   "cell_type": "code",
   "execution_count": null,
   "metadata": {
    "pycharm": {
     "is_executing": false,
     "name": "#%%\n"
    }
   },
   "outputs": [],
   "source": [
    "def who(player):\n",
    "    return \"White\" if player == chess.WHITE else \"Black\""
   ]
  },
  {
   "cell_type": "markdown",
   "metadata": {
    "pycharm": {
     "name": "#%% md\n"
    }
   },
   "source": [
    "Nachdem der Schachcomputer implementiert ist, wird nun die Schnittstelle für den menschlichen Spieler implementiert.\n",
    "Hierfür wird zuerst eine Hilfsfunktion `get_move` benötigt, die die Nutzereingabe in einen Zug umwandelt, sofern dies möglich ist.\n",
    "Zudem wird in ihr überprüft, ob das Spiel vorzeitig zu beenden ist.\n",
    "Dies ist der Fall, wenn der Nutzer als Zug ein `q` (für engl. *quit*) eingibt.\n",
    "Sie erhält als Parameter den dem Nutzer anzuzeigenen Text für die Zugeingabe."
   ]
  },
  {
   "cell_type": "code",
   "execution_count": null,
   "metadata": {
    "pycharm": {
     "is_executing": false,
     "name": "#%%\n"
    }
   },
   "outputs": [],
   "source": [
    "def get_move(prompt):\n",
    "    uci = input(prompt)\n",
    "    if uci and uci[0] == \"q\":\n",
    "        raise KeyboardInterrupt()\n",
    "\n",
    "    try:\n",
    "        chess.Move.from_uci(uci)\n",
    "    except:\n",
    "        uci = None\n",
    "\n",
    "    return uci"
   ]
  },
  {
   "cell_type": "markdown",
   "metadata": {
    "pycharm": {
     "name": "#%% md\n"
    }
   },
   "source": [
    "Die Funktion `human_player` repräsentiert den menschlichen Spieler und koordiniert die Züge des Spielers.\n",
    "Dafür wird zuerst die aktuelle Stellung mittels der IPython-Funktion `display` angezeigt.\n",
    "Anschließend werden dem menschlichen Spieler alle zulässigen Züge für die aktuelle Stellung angezeigt und er wird aufgefordert, seinen Zug zu tätigen.\n",
    "Diese Aufforderung geschieht solange, bis der Nutzer einen gültigen Zug eingegeben hat oder aber das Abbruchkriterium `q`."
   ]
  },
  {
   "cell_type": "code",
   "execution_count": null,
   "metadata": {
    "pycharm": {
     "is_executing": false,
     "name": "#%%\n"
    }
   },
   "outputs": [],
   "source": [
    "def human_player(board):\n",
    "    display(board)\n",
    "    uci = get_move(f\"{who(board.turn)}'s move [q to quit]>\")\n",
    "    legal_uci_moves = [move.uci() for move in board.legal_moves]\n",
    "\n",
    "    while uci not in legal_uci_moves:\n",
    "        print(f\"Legal moves: {(', '.join(sorted(legal_uci_moves)))}\")\n",
    "        uci = get_move(f\"{who(board.turn)}'s move [q to quit]>\")\n",
    "\n",
    "    return uci"
   ]
  },
  {
   "cell_type": "markdown",
   "metadata": {
    "pycharm": {
     "is_executing": false,
     "name": "#%% md\n"
    }
   },
   "source": [
    "Nachdem alle notwendigen Funktionen für den Schachcomputer implementiert sind, kann nun die Funktion `ai_player` implementiert werden.\n",
    "Sie repräsentiert den Schachcomputer dem Spiel gegenüber.\n",
    "Die Funktion besitzt zwei Parameter:\n",
    "\n",
    "- `board` enthält die aktuelle Stellung.\n",
    "- `color` repräsentiert den Spieler, der am Zug ist.\n",
    "\n",
    "Zuerst wird in der verfügbaren Opening Data Base geschaut, ob ein Zug für die übergebene Stellung vorhanden ist.\n",
    "Ist dies der Fall, so wird der Zug zurückgegeben.\n",
    "Andernfalls wird das globale `move_scores` Dictionary zurückgesetzt und die Funktion `iterative_deepening` aufgerufen und deren gewählter Zug zurückgegeben.\n",
    "Es ist zu beachten, dass wenn ein Zug aus der Opening Data Base verwendet wird, die globalen Dictionaries für die Zugscores und die Nachbarstellungen zurückgesetzt werden, da ansonsten keine ausreichende Kontrolle über die Tiefen existiert.\n",
    "Diese Gegebenheit kann durch eine komplexere Implementierung der Zugsortieren optimiert werden, wird an dieser Stellung aber nicht weiter betrachtet."
   ]
  },
  {
   "cell_type": "code",
   "execution_count": null,
   "metadata": {
    "pycharm": {
     "is_executing": false,
     "name": "#%%\n"
    }
   },
   "outputs": [],
   "source": [
    "def ai_player(board: chess.Board, color: int):\n",
    "    move = get_opening_data_base_moves(board)\n",
    "    \n",
    "    if move:\n",
    "        moves_scores = defaultdict(dict)\n",
    "        return move\n",
    "    else:\n",
    "        return iterative_deepening(board, 0, color)"
   ]
  },
  {
   "cell_type": "markdown",
   "metadata": {
    "pycharm": {
     "name": "#%% md\n"
    }
   },
   "source": [
    "`play_game` ist die Funktion, die den Spielablauf koordiniert.\n",
    "Der Funktion kann optional ein Parameter `pause` übergeben werden.\n",
    "Dieser legt fest, wie lange die Stellung und der zu ihr geführte Zug angezeigt werde soll, bevor der andere Spieler am Zug ist.\n",
    "Der übergebene Zahlenwert wird als Anzahl an Sekunden interpretiert.\n",
    "Nach der Initialisierung des Schachbretts sind solange beide Spieler abwechseld am Zug, bis das Spiel als beendet angesehen wird oder das Spiel abgebrochen wurde.\n",
    "Anschließend werden je nach Ausgang des Spiels unterschiedliche Ergebnisse angezeigt."
   ]
  },
  {
   "cell_type": "code",
   "execution_count": null,
   "metadata": {
    "pycharm": {
     "is_executing": false,
     "name": "#%%\n"
    }
   },
   "outputs": [],
   "source": [
    "def play_game(pause=1):\n",
    "    board = chess.Board()\n",
    "    \n",
    "    try:\n",
    "        while not board.is_game_over(claim_draw=True):\n",
    "            if board.turn == chess.WHITE:\n",
    "                #move = board.parse_uci(human_player(board))\n",
    "                move = ai_player(board, chess.WHITE)\n",
    "            else:\n",
    "                move = ai_player(board, chess.BLACK)\n",
    "                \n",
    "            name = who(board.turn)\n",
    "            board.push(move)\n",
    "            html = \"<br/>%s </b>\"%(board._repr_svg_())\n",
    "            clear_output(wait=True)\n",
    "            display(HTML(html))\n",
    "            time.sleep(pause)\n",
    "    except KeyboardInterrupt:\n",
    "        msg = \"Game interrupted\"\n",
    "        return None, msg, board\n",
    "    \n",
    "    result = None\n",
    "    if board.is_checkmate():\n",
    "        msg = \"checkmate: \" + who(not board.turn) + \" wins!\"\n",
    "        result = not board.turn\n",
    "    elif board.is_stalemate():\n",
    "        msg = \"draw: stalemate\"\n",
    "    elif board.is_fivefold_repetition():\n",
    "        msg = \"draw: fivefold repetition\"\n",
    "    elif board.is_insufficient_material():\n",
    "        msg = \"draw: insufficient material\"\n",
    "    elif board.can_claim_draw():\n",
    "        msg = \"draw: claim\"\n",
    "    \n",
    "    print(msg)\n",
    "    return result, msg, board"
   ]
  },
  {
   "cell_type": "code",
   "execution_count": null,
   "metadata": {
    "pycharm": {
     "is_executing": false,
     "name": "#%%\n"
    },
    "scrolled": false
   },
   "outputs": [],
   "source": [
    "play_game()"
   ]
  }
 ],
 "metadata": {
  "kernelspec": {
   "display_name": "Python 3",
   "language": "python",
   "name": "python3"
  },
  "language_info": {
   "codemirror_mode": {
    "name": "ipython",
    "version": 3
   },
   "file_extension": ".py",
   "mimetype": "text/x-python",
   "name": "python",
   "nbconvert_exporter": "python",
   "pygments_lexer": "ipython3",
   "version": "3.8.2"
  },
  "pycharm": {
   "stem_cell": {
    "cell_type": "raw",
    "metadata": {
     "collapsed": false
    },
    "source": []
   }
  }
 },
 "nbformat": 4,
 "nbformat_minor": 1
}

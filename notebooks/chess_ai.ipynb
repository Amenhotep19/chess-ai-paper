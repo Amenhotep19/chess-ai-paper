{
 "cells": [
  {
   "cell_type": "markdown",
   "source": [
    "An dieser Stelle werden alle notwendigen Imports getätigt."
   ],
   "metadata": {
    "collapsed": false
   }
  },
  {
   "cell_type": "code",
   "execution_count": null,
   "metadata": {
    "collapsed": true,
    "pycharm": {
     "is_executing": false
    }
   },
   "outputs": [],
   "source": [
    "import chess\n",
    "import chess.engine\n",
    "import random\n",
    "import chess.svg\n",
    "import time\n",
    "import sys\n",
    "from IPython.display import display, HTML, clear_output"
   ]
  },
  {
   "cell_type": "markdown",
   "source": [
    "Globale Konstanten"
   ],
   "metadata": {
    "collapsed": false,
    "pycharm": {
     "name": "#%% md\n"
    }
   }
  },
  {
   "cell_type": "code",
   "execution_count": null,
   "outputs": [],
   "source": [
    "TIMEOUT_SECONDS: int = 6"
   ],
   "metadata": {
    "collapsed": false,
    "pycharm": {
     "name": "#%%\n",
     "is_executing": false
    }
   }
  },
  {
   "cell_type": "markdown",
   "source": [
    "Globale Variablen"
   ],
   "metadata": {
    "collapsed": false,
    "pycharm": {
     "name": "#%% md\n"
    }
   }
  },
  {
   "cell_type": "code",
   "execution_count": null,
   "outputs": [],
   "source": [
    "best_move = None\n",
    "current_depth = 0\n",
    "global_best_move = None\n",
    "is_timeout: bool = False\n",
    "start_time: float = 0.0"
   ],
   "metadata": {
    "collapsed": false,
    "pycharm": {
     "name": "#%%\n",
     "is_executing": false
    }
   }
  },
  {
   "cell_type": "markdown",
   "source": [
    "Nachfolgend werden die Figurenwerte definiert."
   ],
   "metadata": {
    "collapsed": false,
    "pycharm": {
     "name": "#%% md\n"
    }
   }
  },
  {
   "cell_type": "code",
   "execution_count": null,
   "outputs": [],
   "source": [
    "piece_values = {\n",
    "    chess.BISHOP: 330,\n",
    "    chess.KING: 20_000,\n",
    "    chess.KNIGHT: 320,\n",
    "    chess.PAWN: 100,\n",
    "    chess.QUEEN: 900,\n",
    "    chess.ROOK: 500,\n",
    "}"
   ],
   "metadata": {
    "collapsed": false,
    "pycharm": {
     "name": "#%%\n",
     "is_executing": false
    }
   }
  },
  {
   "cell_type": "markdown",
   "source": [
    "Die Funktion `get_piece_value` gibt den Figurenwert für eine übergebene Figur auf dem Schachbrett zurück."
   ],
   "metadata": {
    "collapsed": false
   }
  },
  {
   "cell_type": "code",
   "execution_count": null,
   "outputs": [],
   "source": [
    "def get_piece_value(piece: chess.Piece) -> int:\n",
    "    if not piece:\n",
    "        return 0\n",
    "    factor = -1 if piece.color == chess.BLACK else 1\n",
    "    return factor * piece_values.get(piece.piece_type)"
   ],
   "metadata": {
    "collapsed": false,
    "pycharm": {
     "name": "#%%\n",
     "is_executing": false
    }
   }
  },
  {
   "cell_type": "markdown",
   "source": [
    "Nachfolgend werden die Piece-Squared Tables definiert."
   ],
   "metadata": {
    "collapsed": false,
    "pycharm": {
     "name": "#%% md\n"
    }
   }
  },
  {
   "cell_type": "code",
   "execution_count": null,
   "outputs": [],
   "source": [
    "piece_squared_tables = {\n",
    "    chess.BISHOP: (\n",
    "        (-20, -10, -10, -10, -10, -10, -10, -20),\n",
    "        (-10,   0,   0,   0,   0,   0,   0, -10),\n",
    "        (-10,   0,   5,  10,  10,   5,   0, -10),\n",
    "        (-10,   5,   5,  10,  10,   5,   5, -10),\n",
    "        (-10,   0,  10,  10,  10,  10,   0, -10),\n",
    "        (-10,  10,  10,  10,  10,  10,  10, -10),\n",
    "        (-10,   5,   0,   0,   0,   0,   5, -10),\n",
    "        (-20, -10, -10, -10, -10, -10, -10, -20),\n",
    "    ),\n",
    "    chess.KING: (\n",
    "        (-30, -40, -40, -50, -50, -40, -40, -30),\n",
    "        (-30, -40, -40, -50, -50, -40, -40, -30),\n",
    "        (-30, -40, -40, -50, -50, -40, -40, -30),\n",
    "        (-30, -40, -40, -50, -50, -40, -40, -30),\n",
    "        (-20, -30, -30, -40, -40, -30, -30, -20),\n",
    "        (-10, -20, -20, -20, -20, -20, -20, -10),\n",
    "        ( 20,  20,   0,   0,   0,   0,  20,  20),\n",
    "        ( 20,  30,  10,   0,   0,  10,  30,  20),\n",
    "    ),\n",
    "    chess.KNIGHT: (\n",
    "        (-50, -40, -30, -30, -30, -30, -40, -50),\n",
    "        (-40, -20,   0,   0,   0,   0, -20, -40),\n",
    "        (-30,   0,  10,  15,  15,  10,   0, -30),\n",
    "        (-30,   5,  15,  20,  20,  15,   5, -30),\n",
    "        (-30,   0,  15,  20,  20,  15,   0, -30),\n",
    "        (-30,   5,  10,  15,  15,  10,   5, -30),\n",
    "        (-40, -20,   0,   5,   5,   0, -20, -40),\n",
    "        (-50, -40, -30, -30, -30, -30, -40, -50),\n",
    "    ),\n",
    "    chess.PAWN: (\n",
    "        (  0,   0,   0,   0,   0,   0,   0,   0),\n",
    "        ( 50,  50,  50,  50,  50,  50,  50,  50),\n",
    "        ( 10,  10,  20,  30,  30,  20,  10,  10),\n",
    "        (  5,   5,  10,  25,  25,  10,   5,   5),\n",
    "        (  0,   0,   0,  20,  20,   0,   0,   0),\n",
    "        (  5,  -5, -10,   0,   0, -10,  -5,   5),\n",
    "        (  5,  10,  10, -20, -20,  10,  10,   5),\n",
    "        (  0,   0,   0,   0,   0,   0,   0,   0),\n",
    "    ),\n",
    "    chess.QUEEN: (\n",
    "        (-20, -10, -10,  -5,  -5, -10, -10, -20),\n",
    "        (-10,   0,   0,   0,   0,   0,   0, -10),\n",
    "        (-10,   0,   5,   5,   5,   5,   0, -10),\n",
    "        ( -5,   0,   5,   5,   5,   5,   0,  -5),\n",
    "        (  0,   0,   5,   5,   5,   5,   0,  -5),\n",
    "        (-10,   5,   5,   5,   5,   5,   0, -10),\n",
    "        (-10,   0,   5,   0,   0,   0,   0, -10),\n",
    "        (-20, -10, -10,  -5,  -5, -10, -10, -20),\n",
    "    ),\n",
    "    chess.ROOK: (\n",
    "        (  0,   0,   0,   0,   0,   0,   0,   0),\n",
    "        (  5,  10,  10,  10,  10,  10,  10,   5),\n",
    "        ( -5,   0,   0,   0,   0,   0,   0,  -5),\n",
    "        ( -5,   0,   0,   0,   0,   0,   0,  -5),\n",
    "        ( -5,   0,   0,   0,   0,   0,   0,  -5),\n",
    "        ( -5,   0,   0,   0,   0,   0,   0,  -5),\n",
    "        ( -5,   0,   0,   0,   0,   0,   0,  -5),\n",
    "        (  0,   0,   0,   5,   5,   0,   0,   0),\n",
    "    ),\n",
    "}"
   ],
   "metadata": {
    "collapsed": false,
    "pycharm": {
     "name": "#%%\n",
     "is_executing": false
    }
   }
  },
  {
   "cell_type": "markdown",
   "source": [
    "In der Endphase wird für den König eine andere Tabelle verwendet. Diese ist nachfolgend definiert."
   ],
   "metadata": {
    "collapsed": false
   }
  },
  {
   "cell_type": "code",
   "execution_count": null,
   "outputs": [],
   "source": [
    "kings_end_game_squared_table = (\n",
    "    (-50, -40, -30, -20, -20, -30, -40, -50),\n",
    "    (-30, -20, -10,   0,   0, -10, -20, -30),\n",
    "    (-30, -10,  20,  30,  30,  20, -10, -30),\n",
    "    (-30, -10,  30,  40,  40,  30, -10, -30),\n",
    "    (-30, -10,  30,  40,  40,  30, -10, -30),\n",
    "    (-30, -10,  20,  30,  30,  20, -10, -30),\n",
    "    (-30, -30,   0,   0,   0,   0, -30, -30),\n",
    "    (-50, -30, -30, -30, -30, -30, -30, -50),\n",
    ")"
   ],
   "metadata": {
    "collapsed": false,
    "pycharm": {
     "name": "#%%\n",
     "is_executing": false
    }
   }
  },
  {
   "cell_type": "markdown",
   "source": [
    "Die Funktion `get_piece_quared_tables_value` liefert den Wert der Piece-Squared Table für eine übergebene Figur auf dem Schachbrett."
   ],
   "metadata": {
    "collapsed": false
   }
  },
  {
   "cell_type": "code",
   "execution_count": null,
   "outputs": [],
   "source": [
    "def get_piece_squared_tables_value(piece: chess.Piece, end_game: bool=False) -> int:\n",
    "    if not piece:\n",
    "        return 0\n",
    "    factor = -1 if piece.color == chess.BLACK else 1\n",
    "    row = piece.piece_type // 8\n",
    "    column = piece.piece_type % 8\n",
    "    \n",
    "    if end_game and piece.piece_type == chess.KING:\n",
    "        return kings_end_game_squared_table[row][column]\n",
    "    \n",
    "    piece_squared_table = piece_squared_tables.get(piece.piece_type)\n",
    "    return factor * piece_squared_table[row][column]"
   ],
   "metadata": {
    "collapsed": false,
    "pycharm": {
     "name": "#%%\n",
     "is_executing": false
    }
   }
  },
  {
   "cell_type": "markdown",
   "source": [
    "Die Funktion `simple_eval_heuristic` setzt die einfache Bewertungsheuristik um."
   ],
   "metadata": {
    "collapsed": false
   }
  },
  {
   "cell_type": "code",
   "execution_count": null,
   "outputs": [],
   "source": [
    "def simple_eval_heuristic(board: chess.Board, end_game: bool=False) -> int:\n",
    "    piece_value = 0\n",
    "    for square in range(64):\n",
    "        piece = board.piece_at(square)\n",
    "        piece_value += get_piece_value(piece)\n",
    "        piece_value += get_piece_squared_tables_value(piece, end_game)\n",
    "    return piece_value"
   ],
   "metadata": {
    "collapsed": false,
    "pycharm": {
     "name": "#%%\n",
     "is_executing": false
    }
   }
  },
  {
   "cell_type": "markdown",
   "source": [
    "Implementierung des Iterative Deepening"
   ],
   "metadata": {
    "collapsed": false,
    "pycharm": {
     "name": "#%% md\n"
    }
   }
  },
  {
   "cell_type": "code",
   "execution_count": null,
   "outputs": [],
   "source": [
    "def iterative_deepening(board: chess.Board, depth: int):\n",
    "    global best_move\n",
    "    global current_depth\n",
    "    global global_best_move\n",
    "    global is_timeout\n",
    "    global start_time\n",
    "    \n",
    "    is_timeout = False\n",
    "    start_time = time.time()\n",
    "    d = 0\n",
    "\n",
    "    while True:\n",
    "        d += 1\n",
    "        if d > 1:\n",
    "            global_best_move = best_move\n",
    "            print(f\"Completed search with depth {current_depth}. Best move so far: {global_best_move}\")\n",
    "        current_depth = depth + d\n",
    "        maximizer(board, current_depth, -sys.maxsize, sys.maxsize)\n",
    "\n",
    "        if is_timeout:\n",
    "            return global_best_move"
   ],
   "metadata": {
    "collapsed": false,
    "pycharm": {
     "name": "#%%\n",
     "is_executing": false
    }
   }
  },
  {
   "cell_type": "markdown",
   "source": [
    "Implementierung der `maximizer` Funktion."
   ],
   "metadata": {
    "collapsed": false,
    "pycharm": {
     "name": "#%% md\n"
    }
   }
  },
  {
   "cell_type": "code",
   "execution_count": null,
   "outputs": [],
   "source": [
    "def maximizer(board: chess.Board, depth: int, alpha: int, beta: int) -> int:\n",
    "    global best_move\n",
    "    global is_timeout\n",
    "    global start_time\n",
    "    \n",
    "    if time.time() - start_time > TIMEOUT_SECONDS:\n",
    "        is_timeout = True\n",
    "        return alpha\n",
    "\n",
    "    if depth == 0:\n",
    "        return simple_eval_heuristic(board)\n",
    "    \n",
    "    moves = board.legal_moves\n",
    "\n",
    "    for move in moves:\n",
    "        newboard = board.copy()\n",
    "        newboard.push(move)\n",
    "        rating: int = minimizer(newboard, depth - 1, alpha, beta)\n",
    "        newboard.pop()\n",
    "\n",
    "        if  rating > alpha:\n",
    "            alpha = rating\n",
    "\n",
    "            if depth == current_depth:\n",
    "                best_move = move\n",
    "\n",
    "        if alpha >= beta:\n",
    "            return alpha\n",
    "    return alpha"
   ],
   "metadata": {
    "collapsed": false,
    "pycharm": {
     "name": "#%%\n",
     "is_executing": false
    }
   }
  },
  {
   "cell_type": "markdown",
   "source": [
    "Implementierung der `minimizer` Funktion."
   ],
   "metadata": {
    "collapsed": false,
    "pycharm": {
     "name": "#%% md\n"
    }
   }
  },
  {
   "cell_type": "code",
   "execution_count": null,
   "outputs": [],
   "source": [
    "def minimizer(board: chess.Board, depth: int, alpha: int, beta: int) -> int:\n",
    "    if depth == 0:\n",
    "        return simple_eval_heuristic(board)\n",
    "        \n",
    "    moves = board.legal_moves\n",
    "\n",
    "    for move in moves:\n",
    "        newboard = board.copy()\n",
    "        newboard.push(move)\n",
    "        rating: int = maximizer(newboard, depth - 1, alpha, beta)\n",
    "        newboard.pop()\n",
    "\n",
    "        if rating <= beta:\n",
    "            beta = rating\n",
    "\n",
    "        if alpha >= beta:\n",
    "            return beta\n",
    "    return beta"
   ],
   "metadata": {
    "collapsed": false,
    "pycharm": {
     "name": "#%%\n",
     "is_executing": false
    }
   }
  },
  {
   "cell_type": "markdown",
   "source": [
    "Test den Code"
   ],
   "metadata": {
    "collapsed": false,
    "pycharm": {
     "name": "#%% md\n"
    }
   }
  },
  {
   "cell_type": "code",
   "execution_count": null,
   "outputs": [],
   "source": [
    "board = chess.Board()\n",
    "board"
   ],
   "metadata": {
    "collapsed": false,
    "pycharm": {
     "name": "#%%\n",
     "is_executing": false
    }
   }
  },
  {
   "cell_type": "code",
   "execution_count": null,
   "outputs": [],
   "source": [
    "iterative_deepening(board, 0)"
   ],
   "metadata": {
    "collapsed": false,
    "pycharm": {
     "name": "#%%\n",
     "is_executing": false
    }
   }
  },
  {
   "cell_type": "code",
   "execution_count": null,
   "outputs": [],
   "source": [
    "\n"
   ],
   "metadata": {
    "collapsed": false,
    "pycharm": {
     "name": "#%%\n",
     "is_executing": false
    }
   }
  }
 ],
 "metadata": {
  "kernelspec": {
   "display_name": "Python 3",
   "language": "python",
   "name": "python3"
  },
  "language_info": {
   "codemirror_mode": {
    "name": "ipython",
    "version": 2
   },
   "file_extension": ".py",
   "mimetype": "text/x-python",
   "name": "python",
   "nbconvert_exporter": "python",
   "pygments_lexer": "ipython2",
   "version": "2.7.6"
  },
  "pycharm": {
   "stem_cell": {
    "cell_type": "raw",
    "source": [],
    "metadata": {
     "collapsed": false
    }
   }
  }
 },
 "nbformat": 4,
 "nbformat_minor": 0
}